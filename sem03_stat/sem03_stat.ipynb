{
 "cells": [
  {
   "cell_type": "markdown",
   "metadata": {},
   "source": [
    "<img align=\"center\" src=\"https://raw.githubusercontent.com/FUlyankin/Parsers/master/images%20/cats.jpg\" height=\"1200\" width=\"1200\"> \n",
    "\n",
    "\n",
    "# Семинар 3:  Основы статистики \n",
    "\n",
    "На этом семинаре мы поговорим про основы статистики. __Наша цель на сегодня:__ \n",
    "\n",
    "* Поставить новый мировой рекорд по запуску анаконды\n",
    "* Мынаучимся считать разные статистические характеристики ручками \n",
    "* Посмотрим как их считать в питоне \n",
    "* Продолжим работать с табличками в pandas \n",
    "\n",
    "\n",
    "Продолжим использовать датасет по нашему вк. "
   ]
  },
  {
   "cell_type": "code",
   "execution_count": 1,
   "metadata": {},
   "outputs": [],
   "source": [
    "import pandas as pd\n",
    "%matplotlib inline "
   ]
  },
  {
   "cell_type": "code",
   "execution_count": 2,
   "metadata": {},
   "outputs": [
    {
     "data": {
      "text/html": [
       "<div>\n",
       "<style scoped>\n",
       "    .dataframe tbody tr th:only-of-type {\n",
       "        vertical-align: middle;\n",
       "    }\n",
       "\n",
       "    .dataframe tbody tr th {\n",
       "        vertical-align: top;\n",
       "    }\n",
       "\n",
       "    .dataframe thead th {\n",
       "        text-align: right;\n",
       "    }\n",
       "</style>\n",
       "<table border=\"1\" class=\"dataframe\">\n",
       "  <thead>\n",
       "    <tr style=\"text-align: right;\">\n",
       "      <th></th>\n",
       "      <th>city</th>\n",
       "      <th>country</th>\n",
       "      <th>first_name</th>\n",
       "      <th>home_town</th>\n",
       "      <th>in_hse_memes_group</th>\n",
       "      <th>is_bmm</th>\n",
       "      <th>is_closed</th>\n",
       "      <th>last_name</th>\n",
       "      <th>likes_memes</th>\n",
       "      <th>uid</th>\n",
       "      <th>...</th>\n",
       "      <th>photo_month_mean</th>\n",
       "      <th>photo_repost_cnt</th>\n",
       "      <th>photo_repost_max</th>\n",
       "      <th>photo_repost_mean</th>\n",
       "      <th>photo_repost_median</th>\n",
       "      <th>photo_text_len_cnt</th>\n",
       "      <th>photo_ava_change_cnt</th>\n",
       "      <th>photo_text_url_len_cnt</th>\n",
       "      <th>friends_from_course_cnt</th>\n",
       "      <th>friends_mail_from_course_pct</th>\n",
       "    </tr>\n",
       "  </thead>\n",
       "  <tbody>\n",
       "    <tr>\n",
       "      <th>0</th>\n",
       "      <td>Москва</td>\n",
       "      <td>Россия</td>\n",
       "      <td>Александра</td>\n",
       "      <td>Москва</td>\n",
       "      <td>True</td>\n",
       "      <td>True</td>\n",
       "      <td>False</td>\n",
       "      <td>Абашкова</td>\n",
       "      <td>60.0</td>\n",
       "      <td>182152789</td>\n",
       "      <td>...</td>\n",
       "      <td>1.333333</td>\n",
       "      <td>0.0</td>\n",
       "      <td>0.0</td>\n",
       "      <td>0.000000</td>\n",
       "      <td>0.0</td>\n",
       "      <td>0.0</td>\n",
       "      <td>0.0</td>\n",
       "      <td>0.0</td>\n",
       "      <td>42.0</td>\n",
       "      <td>0.428571</td>\n",
       "    </tr>\n",
       "    <tr>\n",
       "      <th>1</th>\n",
       "      <td>Рязань</td>\n",
       "      <td>Россия</td>\n",
       "      <td>Анастасия</td>\n",
       "      <td>Рязань</td>\n",
       "      <td>True</td>\n",
       "      <td>True</td>\n",
       "      <td>False</td>\n",
       "      <td>Чуфистова</td>\n",
       "      <td>0.0</td>\n",
       "      <td>148020433</td>\n",
       "      <td>...</td>\n",
       "      <td>2.375000</td>\n",
       "      <td>2.0</td>\n",
       "      <td>1.0</td>\n",
       "      <td>0.105263</td>\n",
       "      <td>0.0</td>\n",
       "      <td>0.0</td>\n",
       "      <td>0.0</td>\n",
       "      <td>0.0</td>\n",
       "      <td>32.0</td>\n",
       "      <td>0.281250</td>\n",
       "    </tr>\n",
       "    <tr>\n",
       "      <th>2</th>\n",
       "      <td>Москва</td>\n",
       "      <td>Россия</td>\n",
       "      <td>Александр</td>\n",
       "      <td>Омск</td>\n",
       "      <td>False</td>\n",
       "      <td>True</td>\n",
       "      <td>False</td>\n",
       "      <td>Головачев</td>\n",
       "      <td>0.0</td>\n",
       "      <td>138413935</td>\n",
       "      <td>...</td>\n",
       "      <td>1.400000</td>\n",
       "      <td>0.0</td>\n",
       "      <td>0.0</td>\n",
       "      <td>0.000000</td>\n",
       "      <td>0.0</td>\n",
       "      <td>0.0</td>\n",
       "      <td>0.0</td>\n",
       "      <td>0.0</td>\n",
       "      <td>32.0</td>\n",
       "      <td>0.406250</td>\n",
       "    </tr>\n",
       "    <tr>\n",
       "      <th>3</th>\n",
       "      <td>NaN</td>\n",
       "      <td>NaN</td>\n",
       "      <td>Анна</td>\n",
       "      <td>NaN</td>\n",
       "      <td>False</td>\n",
       "      <td>True</td>\n",
       "      <td>False</td>\n",
       "      <td>Лобанова</td>\n",
       "      <td>0.0</td>\n",
       "      <td>366261055</td>\n",
       "      <td>...</td>\n",
       "      <td>4.166667</td>\n",
       "      <td>0.0</td>\n",
       "      <td>0.0</td>\n",
       "      <td>0.000000</td>\n",
       "      <td>0.0</td>\n",
       "      <td>0.0</td>\n",
       "      <td>0.0</td>\n",
       "      <td>0.0</td>\n",
       "      <td>45.0</td>\n",
       "      <td>0.333333</td>\n",
       "    </tr>\n",
       "    <tr>\n",
       "      <th>4</th>\n",
       "      <td>NaN</td>\n",
       "      <td>Россия</td>\n",
       "      <td>Алексей</td>\n",
       "      <td>NaN</td>\n",
       "      <td>True</td>\n",
       "      <td>True</td>\n",
       "      <td>False</td>\n",
       "      <td>Пузырный</td>\n",
       "      <td>21.0</td>\n",
       "      <td>111252392</td>\n",
       "      <td>...</td>\n",
       "      <td>3.181818</td>\n",
       "      <td>0.0</td>\n",
       "      <td>0.0</td>\n",
       "      <td>0.000000</td>\n",
       "      <td>0.0</td>\n",
       "      <td>0.0</td>\n",
       "      <td>0.0</td>\n",
       "      <td>0.0</td>\n",
       "      <td>41.0</td>\n",
       "      <td>0.341463</td>\n",
       "    </tr>\n",
       "  </tbody>\n",
       "</table>\n",
       "<p>5 rows × 98 columns</p>\n",
       "</div>"
      ],
      "text/plain": [
       "     city country  first_name home_town  in_hse_memes_group  is_bmm  \\\n",
       "0  Москва  Россия  Александра    Москва                True    True   \n",
       "1  Рязань  Россия   Анастасия    Рязань                True    True   \n",
       "2  Москва  Россия   Александр      Омск               False    True   \n",
       "3     NaN     NaN        Анна       NaN               False    True   \n",
       "4     NaN  Россия     Алексей       NaN                True    True   \n",
       "\n",
       "   is_closed  last_name  likes_memes        uid  ...  photo_month_mean  \\\n",
       "0      False   Абашкова         60.0  182152789  ...          1.333333   \n",
       "1      False  Чуфистова          0.0  148020433  ...          2.375000   \n",
       "2      False  Головачев          0.0  138413935  ...          1.400000   \n",
       "3      False   Лобанова          0.0  366261055  ...          4.166667   \n",
       "4      False   Пузырный         21.0  111252392  ...          3.181818   \n",
       "\n",
       "   photo_repost_cnt  photo_repost_max  photo_repost_mean  photo_repost_median  \\\n",
       "0               0.0               0.0           0.000000                  0.0   \n",
       "1               2.0               1.0           0.105263                  0.0   \n",
       "2               0.0               0.0           0.000000                  0.0   \n",
       "3               0.0               0.0           0.000000                  0.0   \n",
       "4               0.0               0.0           0.000000                  0.0   \n",
       "\n",
       "   photo_text_len_cnt  photo_ava_change_cnt  photo_text_url_len_cnt  \\\n",
       "0                 0.0                   0.0                     0.0   \n",
       "1                 0.0                   0.0                     0.0   \n",
       "2                 0.0                   0.0                     0.0   \n",
       "3                 0.0                   0.0                     0.0   \n",
       "4                 0.0                   0.0                     0.0   \n",
       "\n",
       "   friends_from_course_cnt  friends_mail_from_course_pct  \n",
       "0                     42.0                      0.428571  \n",
       "1                     32.0                      0.281250  \n",
       "2                     32.0                      0.406250  \n",
       "3                     45.0                      0.333333  \n",
       "4                     41.0                      0.341463  \n",
       "\n",
       "[5 rows x 98 columns]"
      ]
     },
     "execution_count": 2,
     "metadata": {},
     "output_type": "execute_result"
    }
   ],
   "source": [
    "df = pd.read_csv('../data/vk_download/vk_main.csv', sep='\\t')\n",
    "df.head()"
   ]
  },
  {
   "cell_type": "markdown",
   "metadata": {},
   "source": [
    "# 1. Описательная статистика в pandas\n",
    "\n",
    "Мы с вами обсудили до этого довольно большое число разных статистических показателей. Давайте посмотрим как искать их в `pandas`.\n",
    "\n",
    "> В статистике строчка датафрейма называется «наблюдением» (*observation*), а столбец — «переменной» (*variable*). Данные в столбце должны быть однородны (например, может быть столбец, состоящий только из чисел или только из строк, но не может быть столбца, в котором перемешаны строки и числа).\n",
    "\n",
    "## 1.1 Максимальное и минимальное значения\n",
    "\n",
    "Посмотрим, какое в таблице есть максимальное и минимальное количество фоток в профиле."
   ]
  },
  {
   "cell_type": "code",
   "execution_count": 3,
   "metadata": {},
   "outputs": [
    {
     "data": {
      "text/plain": [
       "1822.0"
      ]
     },
     "execution_count": 3,
     "metadata": {},
     "output_type": "execute_result"
    }
   ],
   "source": [
    "df.photos_cnt.max()"
   ]
  },
  {
   "cell_type": "code",
   "execution_count": 4,
   "metadata": {},
   "outputs": [
    {
     "data": {
      "text/plain": [
       "0.0"
      ]
     },
     "execution_count": 4,
     "metadata": {},
     "output_type": "execute_result"
    }
   ],
   "source": [
    "df['photos_cnt'].min()"
   ]
  },
  {
   "cell_type": "markdown",
   "metadata": {},
   "source": [
    "Обратите внимание, что мы можем обращаться к столбцам ещё и через точку (только если имя столбца не содержит пробелов / точек / запятых / и т.д.). Давайте посмотрим кто накопил такое большое число фоток в своём профиле. "
   ]
  },
  {
   "cell_type": "code",
   "execution_count": 5,
   "metadata": {},
   "outputs": [
    {
     "data": {
      "text/html": [
       "<div>\n",
       "<style scoped>\n",
       "    .dataframe tbody tr th:only-of-type {\n",
       "        vertical-align: middle;\n",
       "    }\n",
       "\n",
       "    .dataframe tbody tr th {\n",
       "        vertical-align: top;\n",
       "    }\n",
       "\n",
       "    .dataframe thead th {\n",
       "        text-align: right;\n",
       "    }\n",
       "</style>\n",
       "<table border=\"1\" class=\"dataframe\">\n",
       "  <thead>\n",
       "    <tr style=\"text-align: right;\">\n",
       "      <th></th>\n",
       "      <th>first_name</th>\n",
       "      <th>last_name</th>\n",
       "    </tr>\n",
       "  </thead>\n",
       "  <tbody>\n",
       "    <tr>\n",
       "      <th>214</th>\n",
       "      <td>Дуся</td>\n",
       "      <td>Шурмистова</td>\n",
       "    </tr>\n",
       "  </tbody>\n",
       "</table>\n",
       "</div>"
      ],
      "text/plain": [
       "    first_name   last_name\n",
       "214       Дуся  Шурмистова"
      ]
     },
     "execution_count": 5,
     "metadata": {},
     "output_type": "execute_result"
    }
   ],
   "source": [
    "df[df.photos_cnt == df.photos_cnt.max()][['first_name','last_name']]"
   ]
  },
  {
   "cell_type": "markdown",
   "metadata": {},
   "source": [
    "## 1.2 Меры центральной тенденции (среднего уровня)\n",
    "\n",
    "Меры центральной тенденции — показатели, представляющие собой ответ на вопрос: «На что похожа середина данных?». Середину можно описывать с помощью разных показателей! Давайте посмотрим на них. \n",
    "\n",
    "**Среднее значение**\n",
    "\n",
    "Среднее не нуждается в представлении. Вычислить его довольно просто: сложите все значения и разделите полученную сумму на их количество.\n",
    "\n",
    "$$\n",
    "\\bar {x} =  \\frac {1}{n} \\sum _{i=1}^{n}x_{i}\n",
    "$$\n",
    "\n",
    "В случае со средним значением «серединой» датасета будет среднее арифметическое его значений. Среднее значение отражает типичный показатель в наборе данных. Если мы случайно выберем один из показателей, то, скорее всего, получим значение, близкое к среднему."
   ]
  },
  {
   "cell_type": "markdown",
   "metadata": {},
   "source": [
    "Найдём среднее количество друзей, которое есть у первака."
   ]
  },
  {
   "cell_type": "code",
   "execution_count": 6,
   "metadata": {},
   "outputs": [
    {
     "data": {
      "text/plain": [
       "232.05411764705883"
      ]
     },
     "execution_count": 6,
     "metadata": {},
     "output_type": "execute_result"
    }
   ],
   "source": [
    "df.friends_cnt.mean()"
   ]
  },
  {
   "cell_type": "markdown",
   "metadata": {},
   "source": [
    "Это среднее значение говорит нам, что «типичный» первокурсник добавил к себе в друзяшки вконтакте $232$ человека."
   ]
  },
  {
   "cell_type": "markdown",
   "metadata": {},
   "source": [
    "**Медиана**\n",
    "\n",
    "Медиана, как и среднее значение, нужна для определения типичного значения.\n",
    "\n",
    "Чтобы найти медиану, данные нужно расположить в порядке возрастания. Медианой будет значение, которое совпадает с серединой набора данных. Если количество значений чётное, то берётся среднее двух значений, которые «окружают» середину."
   ]
  },
  {
   "cell_type": "code",
   "execution_count": 7,
   "metadata": {},
   "outputs": [
    {
     "data": {
      "text/plain": [
       "185.0"
      ]
     },
     "execution_count": 7,
     "metadata": {},
     "output_type": "execute_result"
    }
   ],
   "source": [
    "df.friends_cnt.median()"
   ]
  },
  {
   "cell_type": "markdown",
   "metadata": {},
   "source": [
    "Медианное число друзей составляет $185$ человек. Грубо говоря, получается, что у половины перваков меньше $185$ друзей, а у второй половины больше $185$ друзей. \n",
    "\n",
    "И медиана, и среднее значение отражают типичное значение. Когда в выборке нет выбросов, они примерно одинаковы. Если в выборке есть выбросы, то их довольно сильно разносит друг от друга, Например, если посмотреть на количество лайков, которое первак оставляет в паблике \"ХАЕР СКУЛ ОФ МЕМЕС\", можно увидеть, что среднее значение довольно сильно отличается от медианы."
   ]
  },
  {
   "cell_type": "code",
   "execution_count": 8,
   "metadata": {},
   "outputs": [
    {
     "data": {
      "text/plain": [
       "24.447916666666668"
      ]
     },
     "execution_count": 8,
     "metadata": {},
     "output_type": "execute_result"
    }
   ],
   "source": [
    "df.likes_memes.mean()"
   ]
  },
  {
   "cell_type": "code",
   "execution_count": 9,
   "metadata": {},
   "outputs": [
    {
     "data": {
      "text/plain": [
       "3.0"
      ]
     },
     "execution_count": 9,
     "metadata": {},
     "output_type": "execute_result"
    }
   ],
   "source": [
    "df.likes_memes.median()"
   ]
  },
  {
   "cell_type": "markdown",
   "metadata": {},
   "source": [
    "Какие-то деятели лайкают слишком много мемесов и смещают среднее вверх. Давайте посмотрим на гистограмму лайков и друзей. Параметр `bins` отвечает за то, сколько столбиков строить. Длина каждого столбика расчитывается автоматически. "
   ]
  },
  {
   "cell_type": "code",
   "execution_count": 10,
   "metadata": {},
   "outputs": [
    {
     "data": {
      "image/png": "[encoded data removed]",
      "text/plain": [
       "<Figure size 432x288 with 1 Axes>"
      ]
     },
     "metadata": {
      "needs_background": "light"
     },
     "output_type": "display_data"
    }
   ],
   "source": [
    "df.likes_memes.hist(bins=50);"
   ]
  },
  {
   "cell_type": "code",
   "execution_count": 11,
   "metadata": {},
   "outputs": [
    {
     "data": {
      "image/png": "[encoded data removed]",
      "text/plain": [
       "<Figure size 432x288 with 1 Axes>"
      ]
     },
     "metadata": {
      "needs_background": "light"
     },
     "output_type": "display_data"
    }
   ],
   "source": [
    "df.friends_cnt.hist(bins=50);"
   ]
  },
  {
   "cell_type": "markdown",
   "metadata": {},
   "source": [
    "Видели? У лайков очень длинный хвост. Какой-то деятель оставил в паблосе аж $\\approx 1000$ лайков. Чем длиннее хвост, тем страшнее выбросы. У числа друзей хвост короче. Из-за этого среднее и медианное число друзей ближе друг к другу.\n",
    "\n",
    "__Запомните на всю жизнь:__ выбросы - зло. Среднее значение чувствительно к выбросам, а медиана нет. "
   ]
  },
  {
   "cell_type": "markdown",
   "metadata": {},
   "source": [
    "**Мода**\n",
    "\n",
    "Это последняя мера центральной тенденции, о которой пойдёт речь. Мода определяется как значение, которое наиболее часто встречается в наборе данных. Давайте посмотрим на самое модное число лайков."
   ]
  },
  {
   "cell_type": "code",
   "execution_count": 12,
   "metadata": {
    "scrolled": true
   },
   "outputs": [
    {
     "data": {
      "text/plain": [
       "0    0.0\n",
       "dtype: float64"
      ]
     },
     "execution_count": 12,
     "metadata": {},
     "output_type": "execute_result"
    }
   ],
   "source": [
    "df.likes_memes.mode()"
   ]
  },
  {
   "cell_type": "markdown",
   "metadata": {},
   "source": [
    "Обратите внимание, что, если значение появляется в данных неоднократно, оно приблизит среднее значение к моде. Чем чаще появляется значение, тем сильнее оно влияет на среднее. Таким образом, мода показывает наиболее значимый фактор, формирующий среднее значение."
   ]
  },
  {
   "cell_type": "markdown",
   "metadata": {},
   "source": [
    "Приятная особенность моды состоит в том, что её мы можем посмотреть не только для численных данных, но и для категориальных. Например, мы можем узнать какое имя на потоке самое частое. "
   ]
  },
  {
   "cell_type": "code",
   "execution_count": 13,
   "metadata": {},
   "outputs": [
    {
     "data": {
      "text/plain": [
       "0    Дарья\n",
       "dtype: object"
      ]
     },
     "execution_count": 13,
     "metadata": {},
     "output_type": "execute_result"
    }
   ],
   "source": [
    "df.first_name.mode()"
   ]
  },
  {
   "cell_type": "markdown",
   "metadata": {},
   "source": [
    "С помощью ещё одного няшного метода `value_counts()` мы можем посмотреть на то, как часто оно встречалось. "
   ]
  },
  {
   "cell_type": "code",
   "execution_count": 14,
   "metadata": {},
   "outputs": [
    {
     "data": {
      "text/plain": [
       "Дарья        12\n",
       "Анна         11\n",
       "Александр     9\n",
       "Анастасия     9\n",
       "Никита        8\n",
       "Полина        7\n",
       "Мария         7\n",
       "Глеб          7\n",
       "Иван          7\n",
       "Андрей        6\n",
       "Name: first_name, dtype: int64"
      ]
     },
     "execution_count": 14,
     "metadata": {},
     "output_type": "execute_result"
    }
   ],
   "source": [
    "df.first_name.value_counts()[:10]"
   ]
  },
  {
   "cell_type": "markdown",
   "metadata": {},
   "source": [
    "## 1.3 Меры разброса\n",
    "\n",
    "Выше мы посмотрели на то насколько данные типичные. Кроме типичность интересно насколько жесткий в данных разброс. Наример, в случае лайков, хвост длиннее, чем в случае друзей. Разные меры разброса помогают понять это. Они отвечают на вопрос: «Как сильно варьируются мои данные?». Например, мы поняли, что типичное число друзей находится в районе $200$. Возникает вопрос, а на сколько больше или меньше может быть число друзей.\n",
    "\n",
    "**Дисперсия и стандартное отклонение**\n",
    "\n",
    "Давайте посмотрим на то, насколько число друзей отличается от среднего значения. Для этого будем брать число друзей $x_i$ и вычитать из него среднее, $\\bar x$:\n",
    "\n",
    "$$\n",
    "(x_i - \\bar x)\n",
    "$$\n",
    "\n",
    "Предположим, что среднее значение $30$. У парня по имени Ярополк $25$ друзей. У девушки по имени Рагнеда $35$. Получается, что Ярополк отличается от типичного первокурсника на $25 - 30 = -5$ друзей. А Рагнеда на $35 - 30 = 5$ друзей. Когда мы сложим эти различия, получится $0$. Разброса нет. А это неправда. Из-за этого обычно разность возводят в квадрат. Тогда получается, что разброс в выборке составляет \n",
    "\n",
    "$$\n",
    "\\frac{1}{2} \\cdot((25-30)^2 + (35-30)^2) = 25\n",
    "$$ \n",
    "\n",
    "квадратных друзей. \n",
    "\n",
    "Ещё квадрат нужен для того, чтобы подчеркнуть, что чем сильнее число друзей отличается от среднего, тем выше разброс. Посчитанная нами выше величина называется *дисперсией*\n",
    "\n",
    "$$\n",
    "\\sigma^2= \\frac{1}{n} \\sum_{i=1}^{n} (x_{i}-{\\bar {x}})^{2}\n",
    "$$\n",
    "\n",
    "Проблема дисперсии в том, что она измеряется в квадратных друзьях. Чтобы вернуться назад, к обычным друзьям, нужно извлечь из неё корень. Тогда получится величина, которая называется *среднеквадратическим отклонением* или *стандартным отклонением*. "
   ]
  },
  {
   "cell_type": "code",
   "execution_count": 15,
   "metadata": {},
   "outputs": [
    {
     "data": {
      "text/plain": [
       "52391.339045504996"
      ]
     },
     "execution_count": 15,
     "metadata": {},
     "output_type": "execute_result"
    }
   ],
   "source": [
    "df.friends_cnt.var() # дисперсия, variance"
   ]
  },
  {
   "cell_type": "code",
   "execution_count": 16,
   "metadata": {},
   "outputs": [
    {
     "data": {
      "text/plain": [
       "228.89154428572715"
      ]
     },
     "execution_count": 16,
     "metadata": {},
     "output_type": "execute_result"
    }
   ],
   "source": [
    "df.friends_cnt.std() # стандартное отклонение, standard deviation"
   ]
  },
  {
   "cell_type": "markdown",
   "metadata": {},
   "source": [
    "Часто дисперсию считают по формуле \n",
    "\n",
    "$$\n",
    "\\sigma^2= \\frac{1}{n-1} \\sum_{i=1}^{n} (x_{i}-{\\bar {x}})^{2}\n",
    "$$\n",
    "\n",
    "Это правильнее. Почему — вы узнаете на математической статистике. Пока что это за гранью нашего понимания. Просто свыкнитесь с этой мыслью до тех пор, пока не изучите теорию вероятностей. Когда изучите, можно начинать рефлексировать и уходить в астрал несмещённостей и эффективностей. \n",
    "\n",
    "Давайте вручную убедимся, что питон считает именно по такой формуле. Для этого вытащим в переменную `friends` число друзей. Иногда в табличке встречаются пропуски, которые обозначаются символом `NA` (not availible). Нужно избавиться от пропусков. Это помогает сделать метод `.dropna()`. Он выбросит все пропуски."
   ]
  },
  {
   "cell_type": "code",
   "execution_count": 17,
   "metadata": {},
   "outputs": [
    {
     "data": {
      "text/plain": [
       "52391.33904550498"
      ]
     },
     "execution_count": 17,
     "metadata": {},
     "output_type": "execute_result"
    }
   ],
   "source": [
    "friends = df.friends_cnt.dropna() # выбросили все пропуски\n",
    "n = friends.shape[0]              # узнали сколько всего осталось строк\n",
    "\n",
    "# посчитали дисперсию по классной формуле, результат совпадает с методом .var()\n",
    "sum((friends - friends.mean())**2) / (n - 1)"
   ]
  },
  {
   "cell_type": "code",
   "execution_count": 18,
   "metadata": {},
   "outputs": [
    {
     "data": {
      "text/plain": [
       "52268.065306574375"
      ]
     },
     "execution_count": 18,
     "metadata": {},
     "output_type": "execute_result"
    }
   ],
   "source": [
    "# посчитали дисперсию по недостаточно классной формуле, есть небольшое отличие от предыдущего значения\n",
    "sum((friends - friends.mean())**2) / n"
   ]
  },
  {
   "cell_type": "markdown",
   "metadata": {},
   "source": [
    "## 1.4 Метод describe\n",
    "\n",
    "**Метод describe** считает всё и сразу! "
   ]
  },
  {
   "cell_type": "code",
   "execution_count": 19,
   "metadata": {},
   "outputs": [
    {
     "data": {
      "text/html": [
       "<div>\n",
       "<style scoped>\n",
       "    .dataframe tbody tr th:only-of-type {\n",
       "        vertical-align: middle;\n",
       "    }\n",
       "\n",
       "    .dataframe tbody tr th {\n",
       "        vertical-align: top;\n",
       "    }\n",
       "\n",
       "    .dataframe thead th {\n",
       "        text-align: right;\n",
       "    }\n",
       "</style>\n",
       "<table border=\"1\" class=\"dataframe\">\n",
       "  <thead>\n",
       "    <tr style=\"text-align: right;\">\n",
       "      <th></th>\n",
       "      <th>likes_memes</th>\n",
       "      <th>uid</th>\n",
       "      <th>male_dummy</th>\n",
       "      <th>facebook_dummy</th>\n",
       "      <th>instagram_dummy</th>\n",
       "      <th>skype_dummy</th>\n",
       "      <th>twitter_dummy</th>\n",
       "      <th>home_phone_dummy</th>\n",
       "      <th>mobile_phone_dummy</th>\n",
       "      <th>site_dummy</th>\n",
       "      <th>...</th>\n",
       "      <th>photo_month_mean</th>\n",
       "      <th>photo_repost_cnt</th>\n",
       "      <th>photo_repost_max</th>\n",
       "      <th>photo_repost_mean</th>\n",
       "      <th>photo_repost_median</th>\n",
       "      <th>photo_text_len_cnt</th>\n",
       "      <th>photo_ava_change_cnt</th>\n",
       "      <th>photo_text_url_len_cnt</th>\n",
       "      <th>friends_from_course_cnt</th>\n",
       "      <th>friends_mail_from_course_pct</th>\n",
       "    </tr>\n",
       "  </thead>\n",
       "  <tbody>\n",
       "    <tr>\n",
       "      <th>count</th>\n",
       "      <td>384.000000</td>\n",
       "      <td>4.250000e+02</td>\n",
       "      <td>425.000000</td>\n",
       "      <td>425.000000</td>\n",
       "      <td>425.000000</td>\n",
       "      <td>425.000000</td>\n",
       "      <td>425.000000</td>\n",
       "      <td>425.000000</td>\n",
       "      <td>425.000000</td>\n",
       "      <td>425.000000</td>\n",
       "      <td>...</td>\n",
       "      <td>376.000000</td>\n",
       "      <td>376.000000</td>\n",
       "      <td>376.000000</td>\n",
       "      <td>376.000000</td>\n",
       "      <td>376.000000</td>\n",
       "      <td>376.000000</td>\n",
       "      <td>376.0</td>\n",
       "      <td>376.000000</td>\n",
       "      <td>384.000000</td>\n",
       "      <td>384.000000</td>\n",
       "    </tr>\n",
       "    <tr>\n",
       "      <th>mean</th>\n",
       "      <td>24.447917</td>\n",
       "      <td>2.112358e+08</td>\n",
       "      <td>0.458824</td>\n",
       "      <td>0.002353</td>\n",
       "      <td>0.195294</td>\n",
       "      <td>0.051765</td>\n",
       "      <td>0.014118</td>\n",
       "      <td>0.028235</td>\n",
       "      <td>0.047059</td>\n",
       "      <td>0.110588</td>\n",
       "      <td>...</td>\n",
       "      <td>4.270131</td>\n",
       "      <td>0.353723</td>\n",
       "      <td>0.188830</td>\n",
       "      <td>0.014372</td>\n",
       "      <td>0.002660</td>\n",
       "      <td>0.227394</td>\n",
       "      <td>0.0</td>\n",
       "      <td>0.119681</td>\n",
       "      <td>31.979167</td>\n",
       "      <td>0.450759</td>\n",
       "    </tr>\n",
       "    <tr>\n",
       "      <th>std</th>\n",
       "      <td>80.102333</td>\n",
       "      <td>1.130256e+08</td>\n",
       "      <td>0.498889</td>\n",
       "      <td>0.048507</td>\n",
       "      <td>0.396894</td>\n",
       "      <td>0.221813</td>\n",
       "      <td>0.118115</td>\n",
       "      <td>0.165840</td>\n",
       "      <td>0.212014</td>\n",
       "      <td>0.313991</td>\n",
       "      <td>...</td>\n",
       "      <td>12.912769</td>\n",
       "      <td>1.703295</td>\n",
       "      <td>0.605735</td>\n",
       "      <td>0.064351</td>\n",
       "      <td>0.051571</td>\n",
       "      <td>3.044912</td>\n",
       "      <td>0.0</td>\n",
       "      <td>0.747644</td>\n",
       "      <td>18.632199</td>\n",
       "      <td>0.160002</td>\n",
       "    </tr>\n",
       "    <tr>\n",
       "      <th>min</th>\n",
       "      <td>0.000000</td>\n",
       "      <td>2.232686e+07</td>\n",
       "      <td>0.000000</td>\n",
       "      <td>0.000000</td>\n",
       "      <td>0.000000</td>\n",
       "      <td>0.000000</td>\n",
       "      <td>0.000000</td>\n",
       "      <td>0.000000</td>\n",
       "      <td>0.000000</td>\n",
       "      <td>0.000000</td>\n",
       "      <td>...</td>\n",
       "      <td>1.000000</td>\n",
       "      <td>0.000000</td>\n",
       "      <td>0.000000</td>\n",
       "      <td>0.000000</td>\n",
       "      <td>0.000000</td>\n",
       "      <td>0.000000</td>\n",
       "      <td>0.0</td>\n",
       "      <td>0.000000</td>\n",
       "      <td>5.000000</td>\n",
       "      <td>0.000000</td>\n",
       "    </tr>\n",
       "    <tr>\n",
       "      <th>25%</th>\n",
       "      <td>0.000000</td>\n",
       "      <td>1.405058e+08</td>\n",
       "      <td>0.000000</td>\n",
       "      <td>0.000000</td>\n",
       "      <td>0.000000</td>\n",
       "      <td>0.000000</td>\n",
       "      <td>0.000000</td>\n",
       "      <td>0.000000</td>\n",
       "      <td>0.000000</td>\n",
       "      <td>0.000000</td>\n",
       "      <td>...</td>\n",
       "      <td>1.000000</td>\n",
       "      <td>0.000000</td>\n",
       "      <td>0.000000</td>\n",
       "      <td>0.000000</td>\n",
       "      <td>0.000000</td>\n",
       "      <td>0.000000</td>\n",
       "      <td>0.0</td>\n",
       "      <td>0.000000</td>\n",
       "      <td>20.000000</td>\n",
       "      <td>0.333333</td>\n",
       "    </tr>\n",
       "    <tr>\n",
       "      <th>50%</th>\n",
       "      <td>3.000000</td>\n",
       "      <td>1.857325e+08</td>\n",
       "      <td>0.000000</td>\n",
       "      <td>0.000000</td>\n",
       "      <td>0.000000</td>\n",
       "      <td>0.000000</td>\n",
       "      <td>0.000000</td>\n",
       "      <td>0.000000</td>\n",
       "      <td>0.000000</td>\n",
       "      <td>0.000000</td>\n",
       "      <td>...</td>\n",
       "      <td>1.625000</td>\n",
       "      <td>0.000000</td>\n",
       "      <td>0.000000</td>\n",
       "      <td>0.000000</td>\n",
       "      <td>0.000000</td>\n",
       "      <td>0.000000</td>\n",
       "      <td>0.0</td>\n",
       "      <td>0.000000</td>\n",
       "      <td>28.000000</td>\n",
       "      <td>0.459993</td>\n",
       "    </tr>\n",
       "    <tr>\n",
       "      <th>75%</th>\n",
       "      <td>15.250000</td>\n",
       "      <td>2.579428e+08</td>\n",
       "      <td>1.000000</td>\n",
       "      <td>0.000000</td>\n",
       "      <td>0.000000</td>\n",
       "      <td>0.000000</td>\n",
       "      <td>0.000000</td>\n",
       "      <td>0.000000</td>\n",
       "      <td>0.000000</td>\n",
       "      <td>0.000000</td>\n",
       "      <td>...</td>\n",
       "      <td>3.000000</td>\n",
       "      <td>0.000000</td>\n",
       "      <td>0.000000</td>\n",
       "      <td>0.000000</td>\n",
       "      <td>0.000000</td>\n",
       "      <td>0.000000</td>\n",
       "      <td>0.0</td>\n",
       "      <td>0.000000</td>\n",
       "      <td>39.000000</td>\n",
       "      <td>0.560976</td>\n",
       "    </tr>\n",
       "    <tr>\n",
       "      <th>max</th>\n",
       "      <td>1081.000000</td>\n",
       "      <td>5.701148e+08</td>\n",
       "      <td>1.000000</td>\n",
       "      <td>1.000000</td>\n",
       "      <td>1.000000</td>\n",
       "      <td>1.000000</td>\n",
       "      <td>1.000000</td>\n",
       "      <td>1.000000</td>\n",
       "      <td>1.000000</td>\n",
       "      <td>1.000000</td>\n",
       "      <td>...</td>\n",
       "      <td>151.833333</td>\n",
       "      <td>27.000000</td>\n",
       "      <td>8.000000</td>\n",
       "      <td>0.666667</td>\n",
       "      <td>1.000000</td>\n",
       "      <td>43.500000</td>\n",
       "      <td>0.0</td>\n",
       "      <td>9.000000</td>\n",
       "      <td>125.000000</td>\n",
       "      <td>1.000000</td>\n",
       "    </tr>\n",
       "  </tbody>\n",
       "</table>\n",
       "<p>8 rows × 83 columns</p>\n",
       "</div>"
      ],
      "text/plain": [
       "       likes_memes           uid  male_dummy  facebook_dummy  instagram_dummy  \\\n",
       "count   384.000000  4.250000e+02  425.000000      425.000000       425.000000   \n",
       "mean     24.447917  2.112358e+08    0.458824        0.002353         0.195294   \n",
       "std      80.102333  1.130256e+08    0.498889        0.048507         0.396894   \n",
       "min       0.000000  2.232686e+07    0.000000        0.000000         0.000000   \n",
       "25%       0.000000  1.405058e+08    0.000000        0.000000         0.000000   \n",
       "50%       3.000000  1.857325e+08    0.000000        0.000000         0.000000   \n",
       "75%      15.250000  2.579428e+08    1.000000        0.000000         0.000000   \n",
       "max    1081.000000  5.701148e+08    1.000000        1.000000         1.000000   \n",
       "\n",
       "       skype_dummy  twitter_dummy  home_phone_dummy  mobile_phone_dummy  \\\n",
       "count   425.000000     425.000000        425.000000          425.000000   \n",
       "mean      0.051765       0.014118          0.028235            0.047059   \n",
       "std       0.221813       0.118115          0.165840            0.212014   \n",
       "min       0.000000       0.000000          0.000000            0.000000   \n",
       "25%       0.000000       0.000000          0.000000            0.000000   \n",
       "50%       0.000000       0.000000          0.000000            0.000000   \n",
       "75%       0.000000       0.000000          0.000000            0.000000   \n",
       "max       1.000000       1.000000          1.000000            1.000000   \n",
       "\n",
       "       site_dummy  ...  photo_month_mean  photo_repost_cnt  photo_repost_max  \\\n",
       "count  425.000000  ...        376.000000        376.000000        376.000000   \n",
       "mean     0.110588  ...          4.270131          0.353723          0.188830   \n",
       "std      0.313991  ...         12.912769          1.703295          0.605735   \n",
       "min      0.000000  ...          1.000000          0.000000          0.000000   \n",
       "25%      0.000000  ...          1.000000          0.000000          0.000000   \n",
       "50%      0.000000  ...          1.625000          0.000000          0.000000   \n",
       "75%      0.000000  ...          3.000000          0.000000          0.000000   \n",
       "max      1.000000  ...        151.833333         27.000000          8.000000   \n",
       "\n",
       "       photo_repost_mean  photo_repost_median  photo_text_len_cnt  \\\n",
       "count         376.000000           376.000000          376.000000   \n",
       "mean            0.014372             0.002660            0.227394   \n",
       "std             0.064351             0.051571            3.044912   \n",
       "min             0.000000             0.000000            0.000000   \n",
       "25%             0.000000             0.000000            0.000000   \n",
       "50%             0.000000             0.000000            0.000000   \n",
       "75%             0.000000             0.000000            0.000000   \n",
       "max             0.666667             1.000000           43.500000   \n",
       "\n",
       "       photo_ava_change_cnt  photo_text_url_len_cnt  friends_from_course_cnt  \\\n",
       "count                 376.0              376.000000               384.000000   \n",
       "mean                    0.0                0.119681                31.979167   \n",
       "std                     0.0                0.747644                18.632199   \n",
       "min                     0.0                0.000000                 5.000000   \n",
       "25%                     0.0                0.000000                20.000000   \n",
       "50%                     0.0                0.000000                28.000000   \n",
       "75%                     0.0                0.000000                39.000000   \n",
       "max                     0.0                9.000000               125.000000   \n",
       "\n",
       "       friends_mail_from_course_pct  \n",
       "count                    384.000000  \n",
       "mean                       0.450759  \n",
       "std                        0.160002  \n",
       "min                        0.000000  \n",
       "25%                        0.333333  \n",
       "50%                        0.459993  \n",
       "75%                        0.560976  \n",
       "max                        1.000000  \n",
       "\n",
       "[8 rows x 83 columns]"
      ]
     },
     "execution_count": 19,
     "metadata": {},
     "output_type": "execute_result"
    }
   ],
   "source": [
    "df.describe()"
   ]
  },
  {
   "cell_type": "markdown",
   "metadata": {},
   "source": [
    "Для каждой переменной мы видим: \n",
    "\n",
    "* `count` - число наблюдений, которое есть без пропусков\n",
    "* `mean` - среднее значение\n",
    "* `std` - стандартное отклонение\n",
    "* `min` -  минимум\n",
    "* `max` -  максимум\n",
    "* `50%` -  медиана (половина выборки больше неё, половина меньше)\n",
    "* `25%` -  25% квантиль (четверть выборки меньше, 75% больше)\n",
    "* `75%` -  75% квантиль"
   ]
  },
  {
   "cell_type": "markdown",
   "metadata": {},
   "source": [
    "Можно построить такую же табличку только для категориальных переменных. "
   ]
  },
  {
   "cell_type": "code",
   "execution_count": 20,
   "metadata": {},
   "outputs": [
    {
     "data": {
      "text/html": [
       "<div>\n",
       "<style scoped>\n",
       "    .dataframe tbody tr th:only-of-type {\n",
       "        vertical-align: middle;\n",
       "    }\n",
       "\n",
       "    .dataframe tbody tr th {\n",
       "        vertical-align: top;\n",
       "    }\n",
       "\n",
       "    .dataframe thead th {\n",
       "        text-align: right;\n",
       "    }\n",
       "</style>\n",
       "<table border=\"1\" class=\"dataframe\">\n",
       "  <thead>\n",
       "    <tr style=\"text-align: right;\">\n",
       "      <th></th>\n",
       "      <th>city</th>\n",
       "      <th>country</th>\n",
       "      <th>first_name</th>\n",
       "      <th>home_town</th>\n",
       "      <th>last_name</th>\n",
       "      <th>schools_cnt</th>\n",
       "      <th>relation_cat</th>\n",
       "      <th>life_main_cat</th>\n",
       "      <th>people_main_cat</th>\n",
       "      <th>political_cat</th>\n",
       "      <th>wall_emoji_trace</th>\n",
       "      <th>wall_text</th>\n",
       "    </tr>\n",
       "  </thead>\n",
       "  <tbody>\n",
       "    <tr>\n",
       "      <th>count</th>\n",
       "      <td>328</td>\n",
       "      <td>364</td>\n",
       "      <td>425</td>\n",
       "      <td>112</td>\n",
       "      <td>425</td>\n",
       "      <td>46</td>\n",
       "      <td>193</td>\n",
       "      <td>162</td>\n",
       "      <td>163</td>\n",
       "      <td>12</td>\n",
       "      <td>205</td>\n",
       "      <td>311</td>\n",
       "    </tr>\n",
       "    <tr>\n",
       "      <th>unique</th>\n",
       "      <td>55</td>\n",
       "      <td>14</td>\n",
       "      <td>213</td>\n",
       "      <td>54</td>\n",
       "      <td>412</td>\n",
       "      <td>12</td>\n",
       "      <td>7</td>\n",
       "      <td>7</td>\n",
       "      <td>6</td>\n",
       "      <td>6</td>\n",
       "      <td>202</td>\n",
       "      <td>274</td>\n",
       "    </tr>\n",
       "    <tr>\n",
       "      <th>top</th>\n",
       "      <td>Москва</td>\n",
       "      <td>Россия</td>\n",
       "      <td>Дарья</td>\n",
       "      <td>Москва</td>\n",
       "      <td>Максимова</td>\n",
       "      <td>а</td>\n",
       "      <td>не указано</td>\n",
       "      <td>0.0</td>\n",
       "      <td>0.0</td>\n",
       "      <td>умеренные</td>\n",
       "      <td>❤️</td>\n",
       "      <td></td>\n",
       "    </tr>\n",
       "    <tr>\n",
       "      <th>freq</th>\n",
       "      <td>253</td>\n",
       "      <td>344</td>\n",
       "      <td>12</td>\n",
       "      <td>46</td>\n",
       "      <td>2</td>\n",
       "      <td>22</td>\n",
       "      <td>160</td>\n",
       "      <td>128</td>\n",
       "      <td>127</td>\n",
       "      <td>5</td>\n",
       "      <td>2</td>\n",
       "      <td>18</td>\n",
       "    </tr>\n",
       "  </tbody>\n",
       "</table>\n",
       "</div>"
      ],
      "text/plain": [
       "          city country first_name home_town  last_name schools_cnt  \\\n",
       "count      328     364        425       112        425          46   \n",
       "unique      55      14        213        54        412          12   \n",
       "top     Москва  Россия      Дарья    Москва  Максимова           а   \n",
       "freq       253     344         12        46          2          22   \n",
       "\n",
       "       relation_cat life_main_cat people_main_cat political_cat  \\\n",
       "count           193           162             163            12   \n",
       "unique            7             7               6             6   \n",
       "top      не указано           0.0             0.0     умеренные   \n",
       "freq            160           128             127             5   \n",
       "\n",
       "       wall_emoji_trace wall_text  \n",
       "count               205       311  \n",
       "unique              202       274  \n",
       "top                  ❤️            \n",
       "freq                  2        18  "
      ]
     },
     "execution_count": 20,
     "metadata": {},
     "output_type": "execute_result"
    }
   ],
   "source": [
    "df.describe(include='object')"
   ]
  },
  {
   "cell_type": "markdown",
   "metadata": {},
   "source": [
    "* `count` -  число наблюдений, которое есть без пропусков\n",
    "* `unique` - число уникальных значений (категорий), которые принимает переменная\n",
    "* `top` - мода для каждой категории\n",
    "* `freq` - частота, с которой встречается мода"
   ]
  },
  {
   "cell_type": "markdown",
   "metadata": {},
   "source": [
    "Кстати говоря, любой квантиль можно посчитать следующей функцией. Обратите внимание, что в качестве аргумента здесь пишется не значение процента $0-100$, а доля из диапазона $0-1$."
   ]
  },
  {
   "cell_type": "code",
   "execution_count": 21,
   "metadata": {},
   "outputs": [
    {
     "data": {
      "text/plain": [
       "511.19999999999936"
      ]
     },
     "execution_count": 21,
     "metadata": {},
     "output_type": "execute_result"
    }
   ],
   "source": [
    "df.friends_cnt.quantile(0.95)"
   ]
  },
  {
   "cell_type": "markdown",
   "metadata": {},
   "source": [
    "Выходит, что у $95\\%$ людей из выборки меньше $511$ друзей, и у $5\\%$ --- больше. Т.е. чтобы вывести топ-$5\\%$ по дружелюбности, достаточно построить условие `количество друзей > квантиль-95`."
   ]
  },
  {
   "cell_type": "code",
   "execution_count": 22,
   "metadata": {},
   "outputs": [
    {
     "data": {
      "text/html": [
       "<div>\n",
       "<style scoped>\n",
       "    .dataframe tbody tr th:only-of-type {\n",
       "        vertical-align: middle;\n",
       "    }\n",
       "\n",
       "    .dataframe tbody tr th {\n",
       "        vertical-align: top;\n",
       "    }\n",
       "\n",
       "    .dataframe thead th {\n",
       "        text-align: right;\n",
       "    }\n",
       "</style>\n",
       "<table border=\"1\" class=\"dataframe\">\n",
       "  <thead>\n",
       "    <tr style=\"text-align: right;\">\n",
       "      <th></th>\n",
       "      <th>city</th>\n",
       "      <th>country</th>\n",
       "      <th>first_name</th>\n",
       "      <th>home_town</th>\n",
       "      <th>in_hse_memes_group</th>\n",
       "      <th>is_bmm</th>\n",
       "      <th>is_closed</th>\n",
       "      <th>last_name</th>\n",
       "      <th>likes_memes</th>\n",
       "      <th>uid</th>\n",
       "      <th>...</th>\n",
       "      <th>photo_month_mean</th>\n",
       "      <th>photo_repost_cnt</th>\n",
       "      <th>photo_repost_max</th>\n",
       "      <th>photo_repost_mean</th>\n",
       "      <th>photo_repost_median</th>\n",
       "      <th>photo_text_len_cnt</th>\n",
       "      <th>photo_ava_change_cnt</th>\n",
       "      <th>photo_text_url_len_cnt</th>\n",
       "      <th>friends_from_course_cnt</th>\n",
       "      <th>friends_mail_from_course_pct</th>\n",
       "    </tr>\n",
       "  </thead>\n",
       "  <tbody>\n",
       "    <tr>\n",
       "      <th>2</th>\n",
       "      <td>Москва</td>\n",
       "      <td>Россия</td>\n",
       "      <td>Александр</td>\n",
       "      <td>Омск</td>\n",
       "      <td>False</td>\n",
       "      <td>True</td>\n",
       "      <td>False</td>\n",
       "      <td>Головачев</td>\n",
       "      <td>0.0</td>\n",
       "      <td>138413935</td>\n",
       "      <td>...</td>\n",
       "      <td>1.400000</td>\n",
       "      <td>0.0</td>\n",
       "      <td>0.0</td>\n",
       "      <td>0.000000</td>\n",
       "      <td>0.0</td>\n",
       "      <td>0.0</td>\n",
       "      <td>0.0</td>\n",
       "      <td>0.0</td>\n",
       "      <td>32.0</td>\n",
       "      <td>0.406250</td>\n",
       "    </tr>\n",
       "    <tr>\n",
       "      <th>24</th>\n",
       "      <td>Москва</td>\n",
       "      <td>Россия</td>\n",
       "      <td>Владимир</td>\n",
       "      <td>Тирасполь</td>\n",
       "      <td>True</td>\n",
       "      <td>True</td>\n",
       "      <td>False</td>\n",
       "      <td>Загниборода</td>\n",
       "      <td>0.0</td>\n",
       "      <td>241412773</td>\n",
       "      <td>...</td>\n",
       "      <td>2.750000</td>\n",
       "      <td>2.0</td>\n",
       "      <td>1.0</td>\n",
       "      <td>0.060606</td>\n",
       "      <td>0.0</td>\n",
       "      <td>0.0</td>\n",
       "      <td>0.0</td>\n",
       "      <td>0.0</td>\n",
       "      <td>27.0</td>\n",
       "      <td>0.296296</td>\n",
       "    </tr>\n",
       "    <tr>\n",
       "      <th>25</th>\n",
       "      <td>NaN</td>\n",
       "      <td>NaN</td>\n",
       "      <td>Егор</td>\n",
       "      <td>Москва</td>\n",
       "      <td>False</td>\n",
       "      <td>True</td>\n",
       "      <td>False</td>\n",
       "      <td>Теплухин</td>\n",
       "      <td>19.0</td>\n",
       "      <td>101712503</td>\n",
       "      <td>...</td>\n",
       "      <td>1.000000</td>\n",
       "      <td>0.0</td>\n",
       "      <td>0.0</td>\n",
       "      <td>0.000000</td>\n",
       "      <td>0.0</td>\n",
       "      <td>0.0</td>\n",
       "      <td>0.0</td>\n",
       "      <td>0.0</td>\n",
       "      <td>47.0</td>\n",
       "      <td>0.234043</td>\n",
       "    </tr>\n",
       "    <tr>\n",
       "      <th>43</th>\n",
       "      <td>Москва</td>\n",
       "      <td>Россия</td>\n",
       "      <td>Дари</td>\n",
       "      <td>NaN</td>\n",
       "      <td>True</td>\n",
       "      <td>True</td>\n",
       "      <td>False</td>\n",
       "      <td>Олзоева</td>\n",
       "      <td>2.0</td>\n",
       "      <td>145835178</td>\n",
       "      <td>...</td>\n",
       "      <td>3.900000</td>\n",
       "      <td>0.0</td>\n",
       "      <td>0.0</td>\n",
       "      <td>0.000000</td>\n",
       "      <td>0.0</td>\n",
       "      <td>0.0</td>\n",
       "      <td>0.0</td>\n",
       "      <td>0.0</td>\n",
       "      <td>71.0</td>\n",
       "      <td>0.366197</td>\n",
       "    </tr>\n",
       "    <tr>\n",
       "      <th>65</th>\n",
       "      <td>Санкт-Петербург</td>\n",
       "      <td>Россия</td>\n",
       "      <td>Юрий</td>\n",
       "      <td>NaN</td>\n",
       "      <td>False</td>\n",
       "      <td>True</td>\n",
       "      <td>False</td>\n",
       "      <td>Каплин</td>\n",
       "      <td>0.0</td>\n",
       "      <td>238418880</td>\n",
       "      <td>...</td>\n",
       "      <td>8.166667</td>\n",
       "      <td>1.0</td>\n",
       "      <td>1.0</td>\n",
       "      <td>0.010204</td>\n",
       "      <td>0.0</td>\n",
       "      <td>0.0</td>\n",
       "      <td>0.0</td>\n",
       "      <td>3.0</td>\n",
       "      <td>32.0</td>\n",
       "      <td>0.343750</td>\n",
       "    </tr>\n",
       "    <tr>\n",
       "      <th>81</th>\n",
       "      <td>Москва</td>\n",
       "      <td>Россия</td>\n",
       "      <td>Яна</td>\n",
       "      <td>NaN</td>\n",
       "      <td>True</td>\n",
       "      <td>True</td>\n",
       "      <td>False</td>\n",
       "      <td>Варданян</td>\n",
       "      <td>0.0</td>\n",
       "      <td>317626410</td>\n",
       "      <td>...</td>\n",
       "      <td>1.000000</td>\n",
       "      <td>0.0</td>\n",
       "      <td>0.0</td>\n",
       "      <td>0.000000</td>\n",
       "      <td>0.0</td>\n",
       "      <td>0.0</td>\n",
       "      <td>0.0</td>\n",
       "      <td>0.0</td>\n",
       "      <td>42.0</td>\n",
       "      <td>0.380952</td>\n",
       "    </tr>\n",
       "    <tr>\n",
       "      <th>112</th>\n",
       "      <td>Москва</td>\n",
       "      <td>Россия</td>\n",
       "      <td>Dima</td>\n",
       "      <td>Тирасполь</td>\n",
       "      <td>False</td>\n",
       "      <td>True</td>\n",
       "      <td>False</td>\n",
       "      <td>Telyatnikov</td>\n",
       "      <td>3.0</td>\n",
       "      <td>156961333</td>\n",
       "      <td>...</td>\n",
       "      <td>2.500000</td>\n",
       "      <td>0.0</td>\n",
       "      <td>0.0</td>\n",
       "      <td>0.000000</td>\n",
       "      <td>0.0</td>\n",
       "      <td>0.0</td>\n",
       "      <td>0.0</td>\n",
       "      <td>0.0</td>\n",
       "      <td>70.0</td>\n",
       "      <td>0.371429</td>\n",
       "    </tr>\n",
       "    <tr>\n",
       "      <th>114</th>\n",
       "      <td>Иркутск</td>\n",
       "      <td>Россия</td>\n",
       "      <td>Екатерина</td>\n",
       "      <td>NaN</td>\n",
       "      <td>True</td>\n",
       "      <td>True</td>\n",
       "      <td>False</td>\n",
       "      <td>Лобова</td>\n",
       "      <td>41.0</td>\n",
       "      <td>241205744</td>\n",
       "      <td>...</td>\n",
       "      <td>5.666667</td>\n",
       "      <td>0.0</td>\n",
       "      <td>0.0</td>\n",
       "      <td>0.000000</td>\n",
       "      <td>0.0</td>\n",
       "      <td>0.0</td>\n",
       "      <td>0.0</td>\n",
       "      <td>0.0</td>\n",
       "      <td>27.0</td>\n",
       "      <td>0.333333</td>\n",
       "    </tr>\n",
       "    <tr>\n",
       "      <th>174</th>\n",
       "      <td>Москва</td>\n",
       "      <td>Россия</td>\n",
       "      <td>Андрей</td>\n",
       "      <td>NaN</td>\n",
       "      <td>True</td>\n",
       "      <td>False</td>\n",
       "      <td>False</td>\n",
       "      <td>Гладышев</td>\n",
       "      <td>269.0</td>\n",
       "      <td>135934873</td>\n",
       "      <td>...</td>\n",
       "      <td>3.300000</td>\n",
       "      <td>1.0</td>\n",
       "      <td>1.0</td>\n",
       "      <td>0.030303</td>\n",
       "      <td>0.0</td>\n",
       "      <td>0.0</td>\n",
       "      <td>0.0</td>\n",
       "      <td>0.0</td>\n",
       "      <td>56.0</td>\n",
       "      <td>0.464286</td>\n",
       "    </tr>\n",
       "    <tr>\n",
       "      <th>176</th>\n",
       "      <td>Москва</td>\n",
       "      <td>Россия</td>\n",
       "      <td>Анжелика</td>\n",
       "      <td>Москва</td>\n",
       "      <td>True</td>\n",
       "      <td>False</td>\n",
       "      <td>False</td>\n",
       "      <td>Искандерова</td>\n",
       "      <td>1.0</td>\n",
       "      <td>138086790</td>\n",
       "      <td>...</td>\n",
       "      <td>6.000000</td>\n",
       "      <td>2.0</td>\n",
       "      <td>1.0</td>\n",
       "      <td>0.027778</td>\n",
       "      <td>0.0</td>\n",
       "      <td>0.0</td>\n",
       "      <td>0.0</td>\n",
       "      <td>0.0</td>\n",
       "      <td>92.0</td>\n",
       "      <td>0.500000</td>\n",
       "    </tr>\n",
       "    <tr>\n",
       "      <th>183</th>\n",
       "      <td>Москва</td>\n",
       "      <td>Россия</td>\n",
       "      <td>Антон</td>\n",
       "      <td>Москва</td>\n",
       "      <td>True</td>\n",
       "      <td>False</td>\n",
       "      <td>False</td>\n",
       "      <td>Ковалев</td>\n",
       "      <td>0.0</td>\n",
       "      <td>340066149</td>\n",
       "      <td>...</td>\n",
       "      <td>5.800000</td>\n",
       "      <td>0.0</td>\n",
       "      <td>0.0</td>\n",
       "      <td>0.000000</td>\n",
       "      <td>0.0</td>\n",
       "      <td>0.0</td>\n",
       "      <td>0.0</td>\n",
       "      <td>0.0</td>\n",
       "      <td>70.0</td>\n",
       "      <td>0.542857</td>\n",
       "    </tr>\n",
       "    <tr>\n",
       "      <th>184</th>\n",
       "      <td>Железнодорожный (Балашиха)</td>\n",
       "      <td>Россия</td>\n",
       "      <td>Ariadna</td>\n",
       "      <td>железнодорожный</td>\n",
       "      <td>True</td>\n",
       "      <td>False</td>\n",
       "      <td>False</td>\n",
       "      <td>Kovalenko</td>\n",
       "      <td>32.0</td>\n",
       "      <td>172095113</td>\n",
       "      <td>...</td>\n",
       "      <td>3.666667</td>\n",
       "      <td>0.0</td>\n",
       "      <td>0.0</td>\n",
       "      <td>0.000000</td>\n",
       "      <td>0.0</td>\n",
       "      <td>0.0</td>\n",
       "      <td>0.0</td>\n",
       "      <td>1.0</td>\n",
       "      <td>67.0</td>\n",
       "      <td>0.432836</td>\n",
       "    </tr>\n",
       "    <tr>\n",
       "      <th>193</th>\n",
       "      <td>Красноярск</td>\n",
       "      <td>Россия</td>\n",
       "      <td>Андрей</td>\n",
       "      <td>Красноярск</td>\n",
       "      <td>False</td>\n",
       "      <td>False</td>\n",
       "      <td>False</td>\n",
       "      <td>Баранов</td>\n",
       "      <td>1.0</td>\n",
       "      <td>31809052</td>\n",
       "      <td>...</td>\n",
       "      <td>40.250000</td>\n",
       "      <td>1.0</td>\n",
       "      <td>1.0</td>\n",
       "      <td>0.002070</td>\n",
       "      <td>0.0</td>\n",
       "      <td>0.0</td>\n",
       "      <td>0.0</td>\n",
       "      <td>0.0</td>\n",
       "      <td>80.0</td>\n",
       "      <td>0.400000</td>\n",
       "    </tr>\n",
       "    <tr>\n",
       "      <th>214</th>\n",
       "      <td>Москва</td>\n",
       "      <td>Россия</td>\n",
       "      <td>Дуся</td>\n",
       "      <td>Moscow</td>\n",
       "      <td>False</td>\n",
       "      <td>False</td>\n",
       "      <td>False</td>\n",
       "      <td>Шурмистова</td>\n",
       "      <td>0.0</td>\n",
       "      <td>22326864</td>\n",
       "      <td>...</td>\n",
       "      <td>151.833333</td>\n",
       "      <td>3.0</td>\n",
       "      <td>1.0</td>\n",
       "      <td>0.001647</td>\n",
       "      <td>0.0</td>\n",
       "      <td>0.0</td>\n",
       "      <td>0.0</td>\n",
       "      <td>0.0</td>\n",
       "      <td>15.0</td>\n",
       "      <td>0.333333</td>\n",
       "    </tr>\n",
       "    <tr>\n",
       "      <th>219</th>\n",
       "      <td>Москва</td>\n",
       "      <td>Россия</td>\n",
       "      <td>Екатерина</td>\n",
       "      <td>Йошкар-Ола</td>\n",
       "      <td>True</td>\n",
       "      <td>False</td>\n",
       "      <td>False</td>\n",
       "      <td>Пушкаренко</td>\n",
       "      <td>8.0</td>\n",
       "      <td>141504374</td>\n",
       "      <td>...</td>\n",
       "      <td>3.333333</td>\n",
       "      <td>0.0</td>\n",
       "      <td>0.0</td>\n",
       "      <td>0.000000</td>\n",
       "      <td>0.0</td>\n",
       "      <td>0.0</td>\n",
       "      <td>0.0</td>\n",
       "      <td>0.0</td>\n",
       "      <td>50.0</td>\n",
       "      <td>0.480000</td>\n",
       "    </tr>\n",
       "    <tr>\n",
       "      <th>237</th>\n",
       "      <td>Москва</td>\n",
       "      <td>Россия</td>\n",
       "      <td>Максим</td>\n",
       "      <td>NaN</td>\n",
       "      <td>False</td>\n",
       "      <td>False</td>\n",
       "      <td>False</td>\n",
       "      <td>Васекин</td>\n",
       "      <td>0.0</td>\n",
       "      <td>137407793</td>\n",
       "      <td>...</td>\n",
       "      <td>7.200000</td>\n",
       "      <td>0.0</td>\n",
       "      <td>0.0</td>\n",
       "      <td>0.000000</td>\n",
       "      <td>0.0</td>\n",
       "      <td>0.0</td>\n",
       "      <td>0.0</td>\n",
       "      <td>0.0</td>\n",
       "      <td>43.0</td>\n",
       "      <td>0.674419</td>\n",
       "    </tr>\n",
       "    <tr>\n",
       "      <th>341</th>\n",
       "      <td>Москва</td>\n",
       "      <td>Россия</td>\n",
       "      <td>Макс</td>\n",
       "      <td>Иркутск</td>\n",
       "      <td>False</td>\n",
       "      <td>False</td>\n",
       "      <td>False</td>\n",
       "      <td>Крюков</td>\n",
       "      <td>0.0</td>\n",
       "      <td>198952484</td>\n",
       "      <td>...</td>\n",
       "      <td>15.416667</td>\n",
       "      <td>1.0</td>\n",
       "      <td>1.0</td>\n",
       "      <td>0.005405</td>\n",
       "      <td>0.0</td>\n",
       "      <td>0.0</td>\n",
       "      <td>0.0</td>\n",
       "      <td>0.0</td>\n",
       "      <td>35.0</td>\n",
       "      <td>0.457143</td>\n",
       "    </tr>\n",
       "    <tr>\n",
       "      <th>379</th>\n",
       "      <td>Москва</td>\n",
       "      <td>Россия</td>\n",
       "      <td>Sasha</td>\n",
       "      <td>Voronezh</td>\n",
       "      <td>False</td>\n",
       "      <td>False</td>\n",
       "      <td>False</td>\n",
       "      <td>Rudakova</td>\n",
       "      <td>12.0</td>\n",
       "      <td>69156840</td>\n",
       "      <td>...</td>\n",
       "      <td>2.090909</td>\n",
       "      <td>0.0</td>\n",
       "      <td>0.0</td>\n",
       "      <td>0.000000</td>\n",
       "      <td>0.0</td>\n",
       "      <td>0.0</td>\n",
       "      <td>0.0</td>\n",
       "      <td>1.0</td>\n",
       "      <td>56.0</td>\n",
       "      <td>0.607143</td>\n",
       "    </tr>\n",
       "    <tr>\n",
       "      <th>386</th>\n",
       "      <td>NaN</td>\n",
       "      <td>NaN</td>\n",
       "      <td>Митек</td>\n",
       "      <td>NaN</td>\n",
       "      <td>True</td>\n",
       "      <td>False</td>\n",
       "      <td>False</td>\n",
       "      <td>Сафронов</td>\n",
       "      <td>14.0</td>\n",
       "      <td>177893285</td>\n",
       "      <td>...</td>\n",
       "      <td>2.250000</td>\n",
       "      <td>0.0</td>\n",
       "      <td>0.0</td>\n",
       "      <td>0.000000</td>\n",
       "      <td>0.0</td>\n",
       "      <td>0.0</td>\n",
       "      <td>0.0</td>\n",
       "      <td>1.0</td>\n",
       "      <td>49.0</td>\n",
       "      <td>0.510204</td>\n",
       "    </tr>\n",
       "    <tr>\n",
       "      <th>400</th>\n",
       "      <td>Москва</td>\n",
       "      <td>Россия</td>\n",
       "      <td>Артемий</td>\n",
       "      <td>NaN</td>\n",
       "      <td>True</td>\n",
       "      <td>False</td>\n",
       "      <td>False</td>\n",
       "      <td>Абрамов</td>\n",
       "      <td>12.0</td>\n",
       "      <td>201611256</td>\n",
       "      <td>...</td>\n",
       "      <td>1.571429</td>\n",
       "      <td>0.0</td>\n",
       "      <td>0.0</td>\n",
       "      <td>0.000000</td>\n",
       "      <td>0.0</td>\n",
       "      <td>0.0</td>\n",
       "      <td>0.0</td>\n",
       "      <td>0.0</td>\n",
       "      <td>30.0</td>\n",
       "      <td>0.700000</td>\n",
       "    </tr>\n",
       "    <tr>\n",
       "      <th>409</th>\n",
       "      <td>Москва</td>\n",
       "      <td>Россия</td>\n",
       "      <td>Владислав</td>\n",
       "      <td>NaN</td>\n",
       "      <td>False</td>\n",
       "      <td>False</td>\n",
       "      <td>True</td>\n",
       "      <td>Юркевич</td>\n",
       "      <td>NaN</td>\n",
       "      <td>63425174</td>\n",
       "      <td>...</td>\n",
       "      <td>NaN</td>\n",
       "      <td>NaN</td>\n",
       "      <td>NaN</td>\n",
       "      <td>NaN</td>\n",
       "      <td>NaN</td>\n",
       "      <td>NaN</td>\n",
       "      <td>NaN</td>\n",
       "      <td>NaN</td>\n",
       "      <td>NaN</td>\n",
       "      <td>NaN</td>\n",
       "    </tr>\n",
       "    <tr>\n",
       "      <th>416</th>\n",
       "      <td>Москва</td>\n",
       "      <td>Россия</td>\n",
       "      <td>Янис</td>\n",
       "      <td>NaN</td>\n",
       "      <td>True</td>\n",
       "      <td>False</td>\n",
       "      <td>False</td>\n",
       "      <td>Ксенидис</td>\n",
       "      <td>5.0</td>\n",
       "      <td>166701060</td>\n",
       "      <td>...</td>\n",
       "      <td>2.750000</td>\n",
       "      <td>1.0</td>\n",
       "      <td>1.0</td>\n",
       "      <td>0.045455</td>\n",
       "      <td>0.0</td>\n",
       "      <td>0.0</td>\n",
       "      <td>0.0</td>\n",
       "      <td>0.0</td>\n",
       "      <td>107.0</td>\n",
       "      <td>0.495327</td>\n",
       "    </tr>\n",
       "  </tbody>\n",
       "</table>\n",
       "<p>22 rows × 98 columns</p>\n",
       "</div>"
      ],
      "text/plain": [
       "                           city country first_name        home_town  \\\n",
       "2                        Москва  Россия  Александр             Омск   \n",
       "24                       Москва  Россия   Владимир        Тирасполь   \n",
       "25                          NaN     NaN       Егор           Москва   \n",
       "43                       Москва  Россия       Дари              NaN   \n",
       "65              Санкт-Петербург  Россия       Юрий              NaN   \n",
       "81                       Москва  Россия        Яна              NaN   \n",
       "112                      Москва  Россия       Dima        Тирасполь   \n",
       "114                     Иркутск  Россия  Екатерина              NaN   \n",
       "174                      Москва  Россия     Андрей              NaN   \n",
       "176                      Москва  Россия   Анжелика           Москва   \n",
       "183                      Москва  Россия      Антон           Москва   \n",
       "184  Железнодорожный (Балашиха)  Россия    Ariadna  железнодорожный   \n",
       "193                  Красноярск  Россия     Андрей       Красноярск   \n",
       "214                      Москва  Россия       Дуся           Moscow   \n",
       "219                      Москва  Россия  Екатерина       Йошкар-Ола   \n",
       "237                      Москва  Россия     Максим              NaN   \n",
       "341                      Москва  Россия       Макс          Иркутск   \n",
       "379                      Москва  Россия      Sasha         Voronezh   \n",
       "386                         NaN     NaN      Митек              NaN   \n",
       "400                      Москва  Россия    Артемий              NaN   \n",
       "409                      Москва  Россия  Владислав              NaN   \n",
       "416                      Москва  Россия       Янис              NaN   \n",
       "\n",
       "     in_hse_memes_group  is_bmm  is_closed    last_name  likes_memes  \\\n",
       "2                 False    True      False    Головачев          0.0   \n",
       "24                 True    True      False  Загниборода          0.0   \n",
       "25                False    True      False     Теплухин         19.0   \n",
       "43                 True    True      False      Олзоева          2.0   \n",
       "65                False    True      False       Каплин          0.0   \n",
       "81                 True    True      False     Варданян          0.0   \n",
       "112               False    True      False  Telyatnikov          3.0   \n",
       "114                True    True      False       Лобова         41.0   \n",
       "174                True   False      False     Гладышев        269.0   \n",
       "176                True   False      False  Искандерова          1.0   \n",
       "183                True   False      False      Ковалев          0.0   \n",
       "184                True   False      False    Kovalenko         32.0   \n",
       "193               False   False      False      Баранов          1.0   \n",
       "214               False   False      False   Шурмистова          0.0   \n",
       "219                True   False      False   Пушкаренко          8.0   \n",
       "237               False   False      False      Васекин          0.0   \n",
       "341               False   False      False       Крюков          0.0   \n",
       "379               False   False      False     Rudakova         12.0   \n",
       "386                True   False      False     Сафронов         14.0   \n",
       "400                True   False      False      Абрамов         12.0   \n",
       "409               False   False       True      Юркевич          NaN   \n",
       "416                True   False      False     Ксенидис          5.0   \n",
       "\n",
       "           uid  ...  photo_month_mean  photo_repost_cnt  photo_repost_max  \\\n",
       "2    138413935  ...          1.400000               0.0               0.0   \n",
       "24   241412773  ...          2.750000               2.0               1.0   \n",
       "25   101712503  ...          1.000000               0.0               0.0   \n",
       "43   145835178  ...          3.900000               0.0               0.0   \n",
       "65   238418880  ...          8.166667               1.0               1.0   \n",
       "81   317626410  ...          1.000000               0.0               0.0   \n",
       "112  156961333  ...          2.500000               0.0               0.0   \n",
       "114  241205744  ...          5.666667               0.0               0.0   \n",
       "174  135934873  ...          3.300000               1.0               1.0   \n",
       "176  138086790  ...          6.000000               2.0               1.0   \n",
       "183  340066149  ...          5.800000               0.0               0.0   \n",
       "184  172095113  ...          3.666667               0.0               0.0   \n",
       "193   31809052  ...         40.250000               1.0               1.0   \n",
       "214   22326864  ...        151.833333               3.0               1.0   \n",
       "219  141504374  ...          3.333333               0.0               0.0   \n",
       "237  137407793  ...          7.200000               0.0               0.0   \n",
       "341  198952484  ...         15.416667               1.0               1.0   \n",
       "379   69156840  ...          2.090909               0.0               0.0   \n",
       "386  177893285  ...          2.250000               0.0               0.0   \n",
       "400  201611256  ...          1.571429               0.0               0.0   \n",
       "409   63425174  ...               NaN               NaN               NaN   \n",
       "416  166701060  ...          2.750000               1.0               1.0   \n",
       "\n",
       "     photo_repost_mean  photo_repost_median  photo_text_len_cnt  \\\n",
       "2             0.000000                  0.0                 0.0   \n",
       "24            0.060606                  0.0                 0.0   \n",
       "25            0.000000                  0.0                 0.0   \n",
       "43            0.000000                  0.0                 0.0   \n",
       "65            0.010204                  0.0                 0.0   \n",
       "81            0.000000                  0.0                 0.0   \n",
       "112           0.000000                  0.0                 0.0   \n",
       "114           0.000000                  0.0                 0.0   \n",
       "174           0.030303                  0.0                 0.0   \n",
       "176           0.027778                  0.0                 0.0   \n",
       "183           0.000000                  0.0                 0.0   \n",
       "184           0.000000                  0.0                 0.0   \n",
       "193           0.002070                  0.0                 0.0   \n",
       "214           0.001647                  0.0                 0.0   \n",
       "219           0.000000                  0.0                 0.0   \n",
       "237           0.000000                  0.0                 0.0   \n",
       "341           0.005405                  0.0                 0.0   \n",
       "379           0.000000                  0.0                 0.0   \n",
       "386           0.000000                  0.0                 0.0   \n",
       "400           0.000000                  0.0                 0.0   \n",
       "409                NaN                  NaN                 NaN   \n",
       "416           0.045455                  0.0                 0.0   \n",
       "\n",
       "     photo_ava_change_cnt  photo_text_url_len_cnt  friends_from_course_cnt  \\\n",
       "2                     0.0                     0.0                     32.0   \n",
       "24                    0.0                     0.0                     27.0   \n",
       "25                    0.0                     0.0                     47.0   \n",
       "43                    0.0                     0.0                     71.0   \n",
       "65                    0.0                     3.0                     32.0   \n",
       "81                    0.0                     0.0                     42.0   \n",
       "112                   0.0                     0.0                     70.0   \n",
       "114                   0.0                     0.0                     27.0   \n",
       "174                   0.0                     0.0                     56.0   \n",
       "176                   0.0                     0.0                     92.0   \n",
       "183                   0.0                     0.0                     70.0   \n",
       "184                   0.0                     1.0                     67.0   \n",
       "193                   0.0                     0.0                     80.0   \n",
       "214                   0.0                     0.0                     15.0   \n",
       "219                   0.0                     0.0                     50.0   \n",
       "237                   0.0                     0.0                     43.0   \n",
       "341                   0.0                     0.0                     35.0   \n",
       "379                   0.0                     1.0                     56.0   \n",
       "386                   0.0                     1.0                     49.0   \n",
       "400                   0.0                     0.0                     30.0   \n",
       "409                   NaN                     NaN                      NaN   \n",
       "416                   0.0                     0.0                    107.0   \n",
       "\n",
       "     friends_mail_from_course_pct  \n",
       "2                        0.406250  \n",
       "24                       0.296296  \n",
       "25                       0.234043  \n",
       "43                       0.366197  \n",
       "65                       0.343750  \n",
       "81                       0.380952  \n",
       "112                      0.371429  \n",
       "114                      0.333333  \n",
       "174                      0.464286  \n",
       "176                      0.500000  \n",
       "183                      0.542857  \n",
       "184                      0.432836  \n",
       "193                      0.400000  \n",
       "214                      0.333333  \n",
       "219                      0.480000  \n",
       "237                      0.674419  \n",
       "341                      0.457143  \n",
       "379                      0.607143  \n",
       "386                      0.510204  \n",
       "400                      0.700000  \n",
       "409                           NaN  \n",
       "416                      0.495327  \n",
       "\n",
       "[22 rows x 98 columns]"
      ]
     },
     "execution_count": 22,
     "metadata": {},
     "output_type": "execute_result"
    }
   ],
   "source": [
    "df[df.friends_cnt > df.friends_cnt.quantile(0.95)]"
   ]
  },
  {
   "cell_type": "markdown",
   "metadata": {},
   "source": [
    "Да-да, примерно так вас можно \"отсеять\" по рейтингу при _распределении различных студенческих благ_ (c) \n",
    "\n",
    "__Подробнее тут:__  https://www.hse.ru/studyspravka/rate/."
   ]
  },
  {
   "cell_type": "markdown",
   "metadata": {},
   "source": [
    "# 2. Группировка\n",
    "\n",
    "Если бы нас попросили посчитать, какое среднее число лайков ставят под мемы парни и девушки, мы могли бы сделать это с помощью срезов: "
   ]
  },
  {
   "cell_type": "code",
   "execution_count": 23,
   "metadata": {},
   "outputs": [
    {
     "data": {
      "text/plain": [
       "29.176190476190477"
      ]
     },
     "execution_count": 23,
     "metadata": {},
     "output_type": "execute_result"
    }
   ],
   "source": [
    "df[df.male_dummy == 0].likes_memes.mean()"
   ]
  },
  {
   "cell_type": "code",
   "execution_count": 24,
   "metadata": {},
   "outputs": [
    {
     "data": {
      "text/plain": [
       "18.74137931034483"
      ]
     },
     "execution_count": 24,
     "metadata": {},
     "output_type": "execute_result"
    }
   ],
   "source": [
    "df[df.male_dummy == 1].likes_memes.mean()"
   ]
  },
  {
   "cell_type": "markdown",
   "metadata": {},
   "source": [
    "Судя по всему, парни чаще проявляют свою любовь к мемам, так как в среднем они оставляют в паблике больше лайков. Не факт, что это правда. Вполне может быть, что у нас не очень удачная выборка. Статистика требует, чтобы подобные вещи проверялись более аккуратно. Ближе к концу курса мы займёмся такой аккуратной проверкой. "
   ]
  },
  {
   "cell_type": "markdown",
   "metadata": {},
   "source": [
    "Код пришлось продублировать дважды. А что, если бы полов было не два, а десять? Пришлось бы копировать и вставлять код десяток раз. Это не очень эффективно. Чтобы так не делать, придумали группировки. Их обычно делают с помощью метода `groupby`."
   ]
  },
  {
   "cell_type": "code",
   "execution_count": 25,
   "metadata": {},
   "outputs": [
    {
     "data": {
      "text/plain": [
       "male_dummy\n",
       "0    29.176190\n",
       "1    18.741379\n",
       "Name: likes_memes, dtype: float64"
      ]
     },
     "execution_count": 25,
     "metadata": {},
     "output_type": "execute_result"
    }
   ],
   "source": [
    "df.groupby('male_dummy').likes_memes.mean()"
   ]
  },
  {
   "cell_type": "markdown",
   "metadata": {},
   "source": [
    "В качестве аргумента в этой переменной нужно указать по каким переменным мы хотели бы осуществить группировку применяемой функции. В данной ситуации это пол. \n",
    "\n",
    "Можно делать `groupby` по нескольким колонкам, получать результаты по нескольким колонкам и даже применять несколько функций за раз! Например, можно сравнить количество лайков и фото под записями на стене у парней / девушек без / с инстаграмом."
   ]
  },
  {
   "cell_type": "code",
   "execution_count": 26,
   "metadata": {},
   "outputs": [
    {
     "data": {
      "text/html": [
       "<div>\n",
       "<style scoped>\n",
       "    .dataframe tbody tr th:only-of-type {\n",
       "        vertical-align: middle;\n",
       "    }\n",
       "\n",
       "    .dataframe tbody tr th {\n",
       "        vertical-align: top;\n",
       "    }\n",
       "\n",
       "    .dataframe thead tr th {\n",
       "        text-align: left;\n",
       "    }\n",
       "\n",
       "    .dataframe thead tr:last-of-type th {\n",
       "        text-align: right;\n",
       "    }\n",
       "</style>\n",
       "<table border=\"1\" class=\"dataframe\">\n",
       "  <thead>\n",
       "    <tr>\n",
       "      <th></th>\n",
       "      <th></th>\n",
       "      <th colspan=\"4\" halign=\"left\">wall_like_cnt</th>\n",
       "      <th colspan=\"4\" halign=\"left\">photos_cnt</th>\n",
       "    </tr>\n",
       "    <tr>\n",
       "      <th></th>\n",
       "      <th></th>\n",
       "      <th>count</th>\n",
       "      <th>min</th>\n",
       "      <th>max</th>\n",
       "      <th>mean</th>\n",
       "      <th>count</th>\n",
       "      <th>min</th>\n",
       "      <th>max</th>\n",
       "      <th>mean</th>\n",
       "    </tr>\n",
       "    <tr>\n",
       "      <th>male_dummy</th>\n",
       "      <th>instagram_dummy</th>\n",
       "      <th></th>\n",
       "      <th></th>\n",
       "      <th></th>\n",
       "      <th></th>\n",
       "      <th></th>\n",
       "      <th></th>\n",
       "      <th></th>\n",
       "      <th></th>\n",
       "    </tr>\n",
       "  </thead>\n",
       "  <tbody>\n",
       "    <tr>\n",
       "      <th rowspan=\"2\" valign=\"top\">0</th>\n",
       "      <th>0</th>\n",
       "      <td>138</td>\n",
       "      <td>2.0</td>\n",
       "      <td>19715.0</td>\n",
       "      <td>1066.992754</td>\n",
       "      <td>155</td>\n",
       "      <td>0.0</td>\n",
       "      <td>1822.0</td>\n",
       "      <td>46.883871</td>\n",
       "    </tr>\n",
       "    <tr>\n",
       "      <th>1</th>\n",
       "      <td>50</td>\n",
       "      <td>12.0</td>\n",
       "      <td>8209.0</td>\n",
       "      <td>969.800000</td>\n",
       "      <td>56</td>\n",
       "      <td>1.0</td>\n",
       "      <td>331.0</td>\n",
       "      <td>37.464286</td>\n",
       "    </tr>\n",
       "    <tr>\n",
       "      <th rowspan=\"2\" valign=\"top\">1</th>\n",
       "      <th>0</th>\n",
       "      <td>131</td>\n",
       "      <td>0.0</td>\n",
       "      <td>8301.0</td>\n",
       "      <td>787.450382</td>\n",
       "      <td>146</td>\n",
       "      <td>0.0</td>\n",
       "      <td>1577.0</td>\n",
       "      <td>40.589041</td>\n",
       "    </tr>\n",
       "    <tr>\n",
       "      <th>1</th>\n",
       "      <td>24</td>\n",
       "      <td>1.0</td>\n",
       "      <td>7443.0</td>\n",
       "      <td>858.458333</td>\n",
       "      <td>27</td>\n",
       "      <td>0.0</td>\n",
       "      <td>107.0</td>\n",
       "      <td>16.333333</td>\n",
       "    </tr>\n",
       "  </tbody>\n",
       "</table>\n",
       "</div>"
      ],
      "text/plain": [
       "                           wall_like_cnt                              \\\n",
       "                                   count   min      max         mean   \n",
       "male_dummy instagram_dummy                                             \n",
       "0          0                         138   2.0  19715.0  1066.992754   \n",
       "           1                          50  12.0   8209.0   969.800000   \n",
       "1          0                         131   0.0   8301.0   787.450382   \n",
       "           1                          24   1.0   7443.0   858.458333   \n",
       "\n",
       "                           photos_cnt                          \n",
       "                                count  min     max       mean  \n",
       "male_dummy instagram_dummy                                     \n",
       "0          0                      155  0.0  1822.0  46.883871  \n",
       "           1                       56  1.0   331.0  37.464286  \n",
       "1          0                      146  0.0  1577.0  40.589041  \n",
       "           1                       27  0.0   107.0  16.333333  "
      ]
     },
     "execution_count": 26,
     "metadata": {},
     "output_type": "execute_result"
    }
   ],
   "source": [
    "df.groupby(['male_dummy', 'instagram_dummy'])[['wall_like_cnt', 'photos_cnt']].agg(['count','min','max','mean'])"
   ]
  },
  {
   "cell_type": "markdown",
   "metadata": {},
   "source": [
    "А если вместо конкретных статистик хочется вывести просто всё сразу для всех, можно снова обратиться к `describe`:"
   ]
  },
  {
   "cell_type": "code",
   "execution_count": 27,
   "metadata": {},
   "outputs": [
    {
     "data": {
      "text/html": [
       "<div>\n",
       "<style scoped>\n",
       "    .dataframe tbody tr th:only-of-type {\n",
       "        vertical-align: middle;\n",
       "    }\n",
       "\n",
       "    .dataframe tbody tr th {\n",
       "        vertical-align: top;\n",
       "    }\n",
       "\n",
       "    .dataframe thead tr th {\n",
       "        text-align: left;\n",
       "    }\n",
       "\n",
       "    .dataframe thead tr:last-of-type th {\n",
       "        text-align: right;\n",
       "    }\n",
       "</style>\n",
       "<table border=\"1\" class=\"dataframe\">\n",
       "  <thead>\n",
       "    <tr>\n",
       "      <th></th>\n",
       "      <th></th>\n",
       "      <th colspan=\"8\" halign=\"left\">likes_memes</th>\n",
       "      <th colspan=\"2\" halign=\"left\">uid</th>\n",
       "      <th>...</th>\n",
       "      <th colspan=\"2\" halign=\"left\">friends_from_course_cnt</th>\n",
       "      <th colspan=\"8\" halign=\"left\">friends_mail_from_course_pct</th>\n",
       "    </tr>\n",
       "    <tr>\n",
       "      <th></th>\n",
       "      <th></th>\n",
       "      <th>count</th>\n",
       "      <th>mean</th>\n",
       "      <th>std</th>\n",
       "      <th>min</th>\n",
       "      <th>25%</th>\n",
       "      <th>50%</th>\n",
       "      <th>75%</th>\n",
       "      <th>max</th>\n",
       "      <th>count</th>\n",
       "      <th>mean</th>\n",
       "      <th>...</th>\n",
       "      <th>75%</th>\n",
       "      <th>max</th>\n",
       "      <th>count</th>\n",
       "      <th>mean</th>\n",
       "      <th>std</th>\n",
       "      <th>min</th>\n",
       "      <th>25%</th>\n",
       "      <th>50%</th>\n",
       "      <th>75%</th>\n",
       "      <th>max</th>\n",
       "    </tr>\n",
       "    <tr>\n",
       "      <th>male_dummy</th>\n",
       "      <th>instagram_dummy</th>\n",
       "      <th></th>\n",
       "      <th></th>\n",
       "      <th></th>\n",
       "      <th></th>\n",
       "      <th></th>\n",
       "      <th></th>\n",
       "      <th></th>\n",
       "      <th></th>\n",
       "      <th></th>\n",
       "      <th></th>\n",
       "      <th></th>\n",
       "      <th></th>\n",
       "      <th></th>\n",
       "      <th></th>\n",
       "      <th></th>\n",
       "      <th></th>\n",
       "      <th></th>\n",
       "      <th></th>\n",
       "      <th></th>\n",
       "      <th></th>\n",
       "      <th></th>\n",
       "    </tr>\n",
       "  </thead>\n",
       "  <tbody>\n",
       "    <tr>\n",
       "      <th rowspan=\"2\" valign=\"top\">0</th>\n",
       "      <th>0</th>\n",
       "      <td>155.0</td>\n",
       "      <td>19.987097</td>\n",
       "      <td>41.756404</td>\n",
       "      <td>0.0</td>\n",
       "      <td>0.0</td>\n",
       "      <td>3.0</td>\n",
       "      <td>17.0</td>\n",
       "      <td>232.0</td>\n",
       "      <td>174.0</td>\n",
       "      <td>2.157588e+08</td>\n",
       "      <td>...</td>\n",
       "      <td>36.00</td>\n",
       "      <td>125.0</td>\n",
       "      <td>155.0</td>\n",
       "      <td>0.378743</td>\n",
       "      <td>0.140965</td>\n",
       "      <td>0.000000</td>\n",
       "      <td>0.270979</td>\n",
       "      <td>0.380952</td>\n",
       "      <td>0.500000</td>\n",
       "      <td>0.727273</td>\n",
       "    </tr>\n",
       "    <tr>\n",
       "      <th>1</th>\n",
       "      <td>55.0</td>\n",
       "      <td>55.072727</td>\n",
       "      <td>172.104066</td>\n",
       "      <td>0.0</td>\n",
       "      <td>1.5</td>\n",
       "      <td>11.0</td>\n",
       "      <td>26.0</td>\n",
       "      <td>1081.0</td>\n",
       "      <td>56.0</td>\n",
       "      <td>1.773874e+08</td>\n",
       "      <td>...</td>\n",
       "      <td>42.00</td>\n",
       "      <td>106.0</td>\n",
       "      <td>56.0</td>\n",
       "      <td>0.426892</td>\n",
       "      <td>0.132435</td>\n",
       "      <td>0.125000</td>\n",
       "      <td>0.321815</td>\n",
       "      <td>0.447222</td>\n",
       "      <td>0.530392</td>\n",
       "      <td>0.647059</td>\n",
       "    </tr>\n",
       "    <tr>\n",
       "      <th rowspan=\"2\" valign=\"top\">1</th>\n",
       "      <th>0</th>\n",
       "      <td>147.0</td>\n",
       "      <td>16.639456</td>\n",
       "      <td>54.309103</td>\n",
       "      <td>0.0</td>\n",
       "      <td>0.0</td>\n",
       "      <td>2.0</td>\n",
       "      <td>11.0</td>\n",
       "      <td>440.0</td>\n",
       "      <td>168.0</td>\n",
       "      <td>2.223980e+08</td>\n",
       "      <td>...</td>\n",
       "      <td>38.75</td>\n",
       "      <td>104.0</td>\n",
       "      <td>146.0</td>\n",
       "      <td>0.526642</td>\n",
       "      <td>0.153602</td>\n",
       "      <td>0.148148</td>\n",
       "      <td>0.422484</td>\n",
       "      <td>0.537749</td>\n",
       "      <td>0.635809</td>\n",
       "      <td>1.000000</td>\n",
       "    </tr>\n",
       "    <tr>\n",
       "      <th>1</th>\n",
       "      <td>27.0</td>\n",
       "      <td>30.185185</td>\n",
       "      <td>60.239290</td>\n",
       "      <td>0.0</td>\n",
       "      <td>0.0</td>\n",
       "      <td>5.0</td>\n",
       "      <td>19.5</td>\n",
       "      <td>269.0</td>\n",
       "      <td>27.0</td>\n",
       "      <td>1.828377e+08</td>\n",
       "      <td>...</td>\n",
       "      <td>52.00</td>\n",
       "      <td>107.0</td>\n",
       "      <td>27.0</td>\n",
       "      <td>0.503348</td>\n",
       "      <td>0.152924</td>\n",
       "      <td>0.250000</td>\n",
       "      <td>0.414890</td>\n",
       "      <td>0.475410</td>\n",
       "      <td>0.578576</td>\n",
       "      <td>0.941176</td>\n",
       "    </tr>\n",
       "  </tbody>\n",
       "</table>\n",
       "<p>4 rows × 648 columns</p>\n",
       "</div>"
      ],
      "text/plain": [
       "                           likes_memes                                         \\\n",
       "                                 count       mean         std  min  25%   50%   \n",
       "male_dummy instagram_dummy                                                      \n",
       "0          0                     155.0  19.987097   41.756404  0.0  0.0   3.0   \n",
       "           1                      55.0  55.072727  172.104066  0.0  1.5  11.0   \n",
       "1          0                     147.0  16.639456   54.309103  0.0  0.0   2.0   \n",
       "           1                      27.0  30.185185   60.239290  0.0  0.0   5.0   \n",
       "\n",
       "                                            uid                ...  \\\n",
       "                             75%     max  count          mean  ...   \n",
       "male_dummy instagram_dummy                                     ...   \n",
       "0          0                17.0   232.0  174.0  2.157588e+08  ...   \n",
       "           1                26.0  1081.0   56.0  1.773874e+08  ...   \n",
       "1          0                11.0   440.0  168.0  2.223980e+08  ...   \n",
       "           1                19.5   269.0   27.0  1.828377e+08  ...   \n",
       "\n",
       "                           friends_from_course_cnt         \\\n",
       "                                               75%    max   \n",
       "male_dummy instagram_dummy                                  \n",
       "0          0                                 36.00  125.0   \n",
       "           1                                 42.00  106.0   \n",
       "1          0                                 38.75  104.0   \n",
       "           1                                 52.00  107.0   \n",
       "\n",
       "                           friends_mail_from_course_pct                      \\\n",
       "                                                  count      mean       std   \n",
       "male_dummy instagram_dummy                                                    \n",
       "0          0                                      155.0  0.378743  0.140965   \n",
       "           1                                       56.0  0.426892  0.132435   \n",
       "1          0                                      146.0  0.526642  0.153602   \n",
       "           1                                       27.0  0.503348  0.152924   \n",
       "\n",
       "                                                                              \n",
       "                                 min       25%       50%       75%       max  \n",
       "male_dummy instagram_dummy                                                    \n",
       "0          0                0.000000  0.270979  0.380952  0.500000  0.727273  \n",
       "           1                0.125000  0.321815  0.447222  0.530392  0.647059  \n",
       "1          0                0.148148  0.422484  0.537749  0.635809  1.000000  \n",
       "           1                0.250000  0.414890  0.475410  0.578576  0.941176  \n",
       "\n",
       "[4 rows x 648 columns]"
      ]
     },
     "execution_count": 27,
     "metadata": {},
     "output_type": "execute_result"
    }
   ],
   "source": [
    "df.groupby(['male_dummy', 'instagram_dummy']).describe()"
   ]
  },
  {
   "cell_type": "markdown",
   "metadata": {},
   "source": [
    "# 3.  Apply\n",
    "\n",
    "Можно делать с ячейками разные страшные вещи. Например, можно применить к каждому объекту ячейки одну и ту же функцию. Это можно сделать это методом `apply`. Например, вот так можно посчитать число букв в имени каждого человека из таблицы: "
   ]
  },
  {
   "cell_type": "code",
   "execution_count": 28,
   "metadata": {},
   "outputs": [
    {
     "data": {
      "text/plain": [
       "0    10\n",
       "1     9\n",
       "2     9\n",
       "3     4\n",
       "4     7\n",
       "5    10\n",
       "6     5\n",
       "7     5\n",
       "8     9\n",
       "9     7\n",
       "Name: first_name, dtype: int64"
      ]
     },
     "execution_count": 28,
     "metadata": {},
     "output_type": "execute_result"
    }
   ],
   "source": [
    "df.first_name.apply(len)[:10]"
   ]
  },
  {
   "cell_type": "markdown",
   "metadata": {},
   "source": [
    "Можно даже построить распределение длин имён. "
   ]
  },
  {
   "cell_type": "code",
   "execution_count": 29,
   "metadata": {},
   "outputs": [
    {
     "data": {
      "image/png": "[encoded data removed]",
      "text/plain": [
       "<Figure size 432x288 with 1 Axes>"
      ]
     },
     "metadata": {
      "needs_background": "light"
     },
     "output_type": "display_data"
    }
   ],
   "source": [
    "df.first_name.apply(len).hist();"
   ]
  },
  {
   "cell_type": "markdown",
   "metadata": {},
   "source": [
    "А ещё посчитать среднюю длину имени и многое другое. "
   ]
  },
  {
   "cell_type": "code",
   "execution_count": 30,
   "metadata": {},
   "outputs": [
    {
     "data": {
      "text/plain": [
       "5.527058823529412"
      ]
     },
     "execution_count": 30,
     "metadata": {},
     "output_type": "execute_result"
    }
   ],
   "source": [
    "df.first_name.apply(len).mean()"
   ]
  },
  {
   "cell_type": "markdown",
   "metadata": {},
   "source": [
    "Можно написать свою функцию и применить её к колонке. Например, вот так можно достать первую букву каждого имени: "
   ]
  },
  {
   "cell_type": "code",
   "execution_count": 31,
   "metadata": {},
   "outputs": [
    {
     "data": {
      "text/plain": [
       "'Н'"
      ]
     },
     "execution_count": 31,
     "metadata": {},
     "output_type": "execute_result"
    }
   ],
   "source": [
    "def my_function(name):\n",
    "    return name[0]\n",
    "\n",
    "example = \"Настя\"\n",
    "\n",
    "my_function(example)"
   ]
  },
  {
   "cell_type": "code",
   "execution_count": 32,
   "metadata": {},
   "outputs": [
    {
     "data": {
      "text/plain": [
       "0    А\n",
       "1    А\n",
       "2    А\n",
       "3    А\n",
       "4    А\n",
       "5    А\n",
       "6    А\n",
       "7    А\n",
       "8    A\n",
       "9    Н\n",
       "Name: first_name, dtype: object"
      ]
     },
     "execution_count": 32,
     "metadata": {},
     "output_type": "execute_result"
    }
   ],
   "source": [
    "df.first_name.apply(my_function)[:10]"
   ]
  },
  {
   "cell_type": "markdown",
   "metadata": {},
   "source": [
    "Ровно то же самое можно сделать в одну строчку с помощью лямбда-функций. Это как обычная функци, но её нигде не надо объявлять. "
   ]
  },
  {
   "cell_type": "code",
   "execution_count": 33,
   "metadata": {},
   "outputs": [
    {
     "data": {
      "text/plain": [
       "0    А\n",
       "1    А\n",
       "2    А\n",
       "3    А\n",
       "4    А\n",
       "5    А\n",
       "6    А\n",
       "7    А\n",
       "8    A\n",
       "9    Н\n",
       "Name: first_name, dtype: object"
      ]
     },
     "execution_count": 33,
     "metadata": {},
     "output_type": "execute_result"
    }
   ],
   "source": [
    "df.first_name.apply(lambda name: name[0])[:10]"
   ]
  },
  {
   "cell_type": "markdown",
   "metadata": {},
   "source": [
    "Преобразования можно делать сколь угодно сложными.\n",
    "\n",
    "\n",
    "#### Задание 1\n",
    "\n",
    "В переменной `wall_text` лежат тексты со стен всех пользователей.\n",
    "\n",
    "* Постройте распределение длин для всех стен. \n",
    "* Сколько людей написали на своей стенке хотябы раз название своего вуза? \n"
   ]
  },
  {
   "cell_type": "code",
   "execution_count": 34,
   "metadata": {},
   "outputs": [
    {
     "data": {
      "text/plain": [
       "0         Давай поговорим о личном   Буду вашим кот...\n",
       "1        Лучший фотограф😻😻        ой,  может даже у...\n",
       "2    🚀 [id18115779|Баха], спасибо за атмосферу 🌌 \\n...\n",
       "3    Не проходите мимо! Приходите к нам! Ждём всех!...\n",
       "4    Нам пора признать, что зимний сезон следует сд...\n",
       "Name: wall_text, dtype: object"
      ]
     },
     "execution_count": 34,
     "metadata": {},
     "output_type": "execute_result"
    }
   ],
   "source": [
    "df.wall_text.head()"
   ]
  },
  {
   "cell_type": "code",
   "execution_count": null,
   "metadata": {},
   "outputs": [],
   "source": [
    "### ╰( ͡° ͜ʖ ͡° )つ▬▬ι═══════  your turn!"
   ]
  },
  {
   "cell_type": "markdown",
   "metadata": {},
   "source": [
    "Понятное дело, что мы посчитали не очень точно, так как слово вышка можно просклонять очень по-разному. "
   ]
  },
  {
   "cell_type": "markdown",
   "metadata": {},
   "source": [
    "# 4. Поиск ответов на глупые вопросы \n",
    "\n",
    "Давайте снова поищем ответы на наши вопросы по данным. На этот раз вопросы будут посложнее. \n",
    "\n",
    "#### Задание 2\n",
    "\n",
    "Вывести имена самых больших любителей мемов (топ 1\\% значений по колонке `likes_memes`. Итоговую табличку отсортировать по числу оставленных в группе лайков. "
   ]
  },
  {
   "cell_type": "code",
   "execution_count": null,
   "metadata": {},
   "outputs": [],
   "source": [
    "### ╰( ͡° ͜ʖ ͡° )つ▬▬ι═══════  your turn!"
   ]
  },
  {
   "cell_type": "markdown",
   "metadata": {},
   "source": [
    "#### Задание 3\n",
    "\n",
    "Построить гистограммы для параметров `wall_emoji_cnt` (число эмодзи на стене у человека) и `wall_comment_cnt` (число коментов на стене у человека). Где больше выбросов?"
   ]
  },
  {
   "cell_type": "code",
   "execution_count": null,
   "metadata": {},
   "outputs": [],
   "source": [
    "### ╰( ͡° ͜ʖ ͡° )つ▬▬ι═══════  your turn!"
   ]
  },
  {
   "cell_type": "markdown",
   "metadata": {},
   "source": [
    "#### Задание 4\n",
    "\n",
    "Посчитайте соотношение полов в направлениях по маркетингу и менеджменту (`is_bmm` - если с маркетинга $1$, с менеджмента $0$). Проинтерпретируйте итоговые показатели. Где больше парней? Во сколько раз? "
   ]
  },
  {
   "cell_type": "code",
   "execution_count": null,
   "metadata": {},
   "outputs": [],
   "source": [
    "### ╰( ͡° ͜ʖ ͡° )つ▬▬ι═══════  your turn!"
   ]
  },
  {
   "cell_type": "markdown",
   "metadata": {},
   "source": [
    "#### Задание 5\n",
    "\n",
    "Каждый студент добавляет к себе в друзья людей со своего потока. В переменной `friends_mail_from_course_pct` записана доля парней-друзей с потока (то, что переменная называется не `male` - опечатка).\n",
    "\n",
    "Постройте гистограмму для распределения доли парней в друзьях для девушек и для парней. Обе гистограммы постройте на одной картинке. "
   ]
  },
  {
   "cell_type": "code",
   "execution_count": null,
   "metadata": {},
   "outputs": [],
   "source": [
    "### ╰( ͡° ͜ʖ ͡° )つ▬▬ι═══════  your turn!"
   ]
  },
  {
   "cell_type": "markdown",
   "metadata": {},
   "source": [
    "Посчитайте для обеих групп среднее и дисперсию. Какие выводы вы можете сделать на основе посчитанных статистик? "
   ]
  },
  {
   "cell_type": "code",
   "execution_count": null,
   "metadata": {},
   "outputs": [],
   "source": [
    "### ╰( ͡° ͜ʖ ͡° )つ▬▬ι═══════  your turn!"
   ]
  },
  {
   "cell_type": "markdown",
   "metadata": {},
   "source": [
    "__Выводы:__\n",
    "\n",
    "- Средняя доля друзей парней у парней гораздо выше, чем средняя доля друзей парней у девушек\n",
    "- Разброс в доле друзей парней у парней выше, чем у девушек, этот показатель более непредсказуем. \n",
    "\n",
    "Только не надо делать из этой статистики вывод, что дружба между мужчиной и женщиной невозможна. Эту гипотезу можно попытаться проверить на данных с помощью немного иного статистического арсенала, про который мы будем говорить в будующем. "
   ]
  },
  {
   "cell_type": "markdown",
   "metadata": {},
   "source": [
    "![](https://images.aif.ru/018/038/7ad2753867ed0c5d0281f453bb55bf8a.jpg)"
   ]
  },
  {
   "cell_type": "markdown",
   "metadata": {},
   "source": [
    " "
   ]
  }
 ],
 "metadata": {
  "kernelspec": {
   "display_name": "Python 3",
   "language": "python",
   "name": "python3"
  },
  "language_info": {
   "codemirror_mode": {
    "name": "ipython",
    "version": 3
   },
   "file_extension": ".py",
   "mimetype": "text/x-python",
   "name": "python",
   "nbconvert_exporter": "python",
   "pygments_lexer": "ipython3",
   "version": "3.7.2"
  },
  "toc": {
   "base_numbering": 1,
   "nav_menu": {},
   "number_sections": false,
   "sideBar": true,
   "skip_h1_title": false,
   "title_cell": "Table of Contents",
   "title_sidebar": "Contents",
   "toc_cell": false,
   "toc_position": {},
   "toc_section_display": true,
   "toc_window_display": false
  },
  "varInspector": {
   "cols": {
    "lenName": 16,
    "lenType": 16,
    "lenVar": 40
   },
   "kernels_config": {
    "python": {
     "delete_cmd_postfix": "",
     "delete_cmd_prefix": "del ",
     "library": "var_list.py",
     "varRefreshCmd": "print(var_dic_list())"
    },
    "r": {
     "delete_cmd_postfix": ") ",
     "delete_cmd_prefix": "rm(",
     "library": "var_list.r",
     "varRefreshCmd": "cat(var_dic_list()) "
    }
   },
   "types_to_exclude": [
    "module",
    "function",
    "builtin_function_or_method",
    "instance",
    "_Feature"
   ],
   "window_display": false
  }
 },
 "nbformat": 4,
 "nbformat_minor": 2
}
